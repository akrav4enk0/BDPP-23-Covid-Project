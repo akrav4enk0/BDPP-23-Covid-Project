{
 "cells": [
  {
   "cell_type": "code",
   "execution_count": 1,
   "id": "fe42fe42-2038-4f5f-b207-a351cbda4df1",
   "metadata": {},
   "outputs": [],
   "source": [
    "%run -i writefile2.py"
   ]
  },
  {
   "cell_type": "code",
   "execution_count": 11,
   "id": "ad00eb20-277c-427e-ad67-84dca0ab228b",
   "metadata": {},
   "outputs": [],
   "source": [
    "%%writefile2\n",
    "\n",
    "import pandas as pd\n",
    "from IPython.display import display, HTML\n",
    "import matplotlib.pyplot as plt\n",
    "import math\n",
    "import require\n",
    "import os\n",
    "get_oxford_df = require.single( \"get_oxford_df\" )\n",
    "\n",
    "def get_oxford_categorical_flagged( country, indicator, use_dummies = True, verbose = True ):\n",
    "\n",
    "    series_file = f\"data/{ indicator }.csv\"\n",
    "    flag_file = f\"data/{ indicator.split( '_' )[ 0 ]}_flag.csv\"\n",
    "    \n",
    "    series_df = get_oxford_df( series_file, country )\n",
    "\n",
    "    if not os.path.exists( flag_file ):\n",
    "\n",
    "        flag_df = series_df.copy( )\n",
    "        flag_df.series = 1.0\n",
    "    \n",
    "    else:\n",
    "    \n",
    "            flag_df = get_oxford_df( flag_file, country )\n",
    "    \n",
    "    flag_df.columns = [ \"flag\" ]\n",
    "\n",
    "    if verbose:\n",
    "\n",
    "        display( HTML( f\"<h1>{ indicator.replace( '_', ' ' )} in { country }</h1>\" ))\n",
    "\n",
    "    dual_df = pd.concat([ series_df, flag_df ], axis = 1 )\n",
    "    \n",
    "    if verbose:\n",
    "\n",
    "        display( HTML( f\"<h3>series & flag</h3></p>Note: the Nan values for flag correspond exactly to the times where no measure was taken, it is not missing data<p>\" ))\n",
    "        dual_df.plot( )\n",
    "        plt.show( )\n",
    "\n",
    "    masked_series = (( flag_df.flag == 1 ) * series_df.series )\n",
    "\n",
    "    if verbose:\n",
    "\n",
    "        display( HTML( f\"<h3>masked series</h3><p>filtered out only measures that are nation-wide and not only regionally targeted</p>\" ))\n",
    "        masked_series.plot( )\n",
    "        plt.show( )\n",
    "\n",
    "    nnz_values = [ v for v in masked_series.unique( ) if not math.isnan( v ) and not v == 0 ]\n",
    "    nnz_values.sort( )\n",
    "\n",
    "    if verbose:\n",
    "\n",
    "        display( HTML( f\"<h3>categorical non-zero values</h3><p>{ nnz_values }</p>\" ))\n",
    "\n",
    "    if use_dummies:\n",
    "    \n",
    "        dummy_series = { f\"{ v }\": ( masked_series == v ).astype( int ) for v in nnz_values }\n",
    "    \n",
    "        if verbose:\n",
    "    \n",
    "            display( HTML( f\"<h3>categorical-dummy series</h3>\" ))\n",
    "            \n",
    "            n = len( dummy_series )\n",
    "            fig, axs = plt.subplots( 1, n, figsize = ( 4 * n, 4 ))\n",
    "            \n",
    "            if( n > 1 ):\n",
    "            \n",
    "                axs = axs.ravel( )\n",
    "            \n",
    "            for i, ( v, series ) in enumerate( dummy_series.items( )):\n",
    "            \n",
    "                series.plot( title = v, ax = axs[ i ] if n > 1 else axs )\n",
    "            \n",
    "            plt.show( )\n",
    "        \n",
    "        return dummy_series\n",
    "\n",
    "    else:\n",
    "\n",
    "        return masked_series.fillna( 0 )\n",
    "\n"
   ]
  },
  {
   "cell_type": "code",
   "execution_count": 13,
   "id": "dde43724-e7cc-4777-ab63-e02e9a135787",
   "metadata": {},
   "outputs": [
    {
     "data": {
      "text/html": [
       "<h1>c8ev internationaltravel in United States</h1>"
      ],
      "text/plain": [
       "<IPython.core.display.HTML object>"
      ]
     },
     "metadata": {},
     "output_type": "display_data"
    },
    {
     "data": {
      "text/html": [
       "<h3>series & flag</h3></p>Note: the Nan values for flag correspond exactly to the times where no measure was taken, it is not missing data<p>"
      ],
      "text/plain": [
       "<IPython.core.display.HTML object>"
      ]
     },
     "metadata": {},
     "output_type": "display_data"
    },
    {
     "data": {
      "image/png": "[encoded data removed]",
      "text/plain": [
       "<Figure size 640x480 with 1 Axes>"
      ]
     },
     "metadata": {},
     "output_type": "display_data"
    },
    {
     "data": {
      "text/html": [
       "<h3>masked series</h3><p>filtered out only measures that are nation-wide and not only regionally targeted</p>"
      ],
      "text/plain": [
       "<IPython.core.display.HTML object>"
      ]
     },
     "metadata": {},
     "output_type": "display_data"
    },
    {
     "data": {
      "image/png": "[encoded data removed]",
      "text/plain": [
       "<Figure size 640x480 with 1 Axes>"
      ]
     },
     "metadata": {},
     "output_type": "display_data"
    },
    {
     "data": {
      "text/html": [
       "<h3>categorical non-zero values</h3><p>[1.0, 2.0, 3.0]</p>"
      ],
      "text/plain": [
       "<IPython.core.display.HTML object>"
      ]
     },
     "metadata": {},
     "output_type": "display_data"
    }
   ],
   "source": [
    "country = \"United States\"\n",
    "indicator = \"c8ev_internationaltravel\"\n",
    "series = get_oxford_categorical_flagged( country, indicator )"
   ]
  },
  {
   "cell_type": "code",
   "execution_count": 14,
   "id": "c427334f-f2f7-44e4-b663-4eb58762847d",
   "metadata": {},
   "outputs": [
    {
     "ename": "KeyError",
     "evalue": "'1.0'",
     "output_type": "error",
     "traceback": [
      "\u001b[0;31m---------------------------------------------------------------------------\u001b[0m",
      "\u001b[0;31mValueError\u001b[0m                                Traceback (most recent call last)",
      "File \u001b[0;32m~/.local/share/virtualenvs/project-w4pzjVjZ/lib/python3.9/site-packages/pandas/core/indexes/datetimes.py:557\u001b[0m, in \u001b[0;36mDatetimeIndex.get_loc\u001b[0;34m(self, key)\u001b[0m\n\u001b[1;32m    556\u001b[0m \u001b[38;5;28;01mtry\u001b[39;00m:\n\u001b[0;32m--> 557\u001b[0m     parsed, reso \u001b[38;5;241m=\u001b[39m \u001b[38;5;28;43mself\u001b[39;49m\u001b[38;5;241;43m.\u001b[39;49m\u001b[43m_parse_with_reso\u001b[49m\u001b[43m(\u001b[49m\u001b[43mkey\u001b[49m\u001b[43m)\u001b[49m\n\u001b[1;32m    558\u001b[0m \u001b[38;5;28;01mexcept\u001b[39;00m (\u001b[38;5;167;01mValueError\u001b[39;00m, pytz\u001b[38;5;241m.\u001b[39mNonExistentTimeError) \u001b[38;5;28;01mas\u001b[39;00m err:\n",
      "File \u001b[0;32m~/.local/share/virtualenvs/project-w4pzjVjZ/lib/python3.9/site-packages/pandas/core/indexes/datetimes.py:513\u001b[0m, in \u001b[0;36mDatetimeIndex._parse_with_reso\u001b[0;34m(self, label)\u001b[0m\n\u001b[1;32m    512\u001b[0m \u001b[38;5;28;01mdef\u001b[39;00m \u001b[38;5;21m_parse_with_reso\u001b[39m(\u001b[38;5;28mself\u001b[39m, label: \u001b[38;5;28mstr\u001b[39m):\n\u001b[0;32m--> 513\u001b[0m     parsed, reso \u001b[38;5;241m=\u001b[39m \u001b[38;5;28;43msuper\u001b[39;49m\u001b[43m(\u001b[49m\u001b[43m)\u001b[49m\u001b[38;5;241;43m.\u001b[39;49m\u001b[43m_parse_with_reso\u001b[49m\u001b[43m(\u001b[49m\u001b[43mlabel\u001b[49m\u001b[43m)\u001b[49m\n\u001b[1;32m    515\u001b[0m     parsed \u001b[38;5;241m=\u001b[39m Timestamp(parsed)\n",
      "File \u001b[0;32m~/.local/share/virtualenvs/project-w4pzjVjZ/lib/python3.9/site-packages/pandas/core/indexes/datetimelike.py:267\u001b[0m, in \u001b[0;36mDatetimeIndexOpsMixin._parse_with_reso\u001b[0;34m(self, label)\u001b[0m\n\u001b[1;32m    265\u001b[0m     label \u001b[38;5;241m=\u001b[39m \u001b[38;5;28mstr\u001b[39m(label)\n\u001b[0;32m--> 267\u001b[0m parsed, reso_str \u001b[38;5;241m=\u001b[39m \u001b[43mparsing\u001b[49m\u001b[38;5;241;43m.\u001b[39;49m\u001b[43mparse_datetime_string_with_reso\u001b[49m\u001b[43m(\u001b[49m\u001b[43mlabel\u001b[49m\u001b[43m,\u001b[49m\u001b[43m \u001b[49m\u001b[43mfreqstr\u001b[49m\u001b[43m)\u001b[49m\n\u001b[1;32m    268\u001b[0m reso \u001b[38;5;241m=\u001b[39m Resolution\u001b[38;5;241m.\u001b[39mfrom_attrname(reso_str)\n",
      "File \u001b[0;32m~/.local/share/virtualenvs/project-w4pzjVjZ/lib/python3.9/site-packages/pandas/_libs/tslibs/parsing.pyx:385\u001b[0m, in \u001b[0;36mpandas._libs.tslibs.parsing.parse_datetime_string_with_reso\u001b[0;34m()\u001b[0m\n",
      "\u001b[0;31mValueError\u001b[0m: Given date string \"1.0\" not likely a datetime",
      "\nThe above exception was the direct cause of the following exception:\n",
      "\u001b[0;31mKeyError\u001b[0m                                  Traceback (most recent call last)",
      "Cell \u001b[0;32mIn[14], line 1\u001b[0m\n\u001b[0;32m----> 1\u001b[0m \u001b[43mseries\u001b[49m\u001b[43m[\u001b[49m\u001b[43m \u001b[49m\u001b[38;5;124;43m\"\u001b[39;49m\u001b[38;5;124;43m1.0\u001b[39;49m\u001b[38;5;124;43m\"\u001b[39;49m\u001b[43m \u001b[49m\u001b[43m]\u001b[49m\u001b[38;5;241m.\u001b[39mindex[ \u001b[38;5;241m2\u001b[39m: ]\n",
      "File \u001b[0;32m~/.local/share/virtualenvs/project-w4pzjVjZ/lib/python3.9/site-packages/pandas/core/series.py:1007\u001b[0m, in \u001b[0;36mSeries.__getitem__\u001b[0;34m(self, key)\u001b[0m\n\u001b[1;32m   1004\u001b[0m     \u001b[38;5;28;01mreturn\u001b[39;00m \u001b[38;5;28mself\u001b[39m\u001b[38;5;241m.\u001b[39m_values[key]\n\u001b[1;32m   1006\u001b[0m \u001b[38;5;28;01melif\u001b[39;00m key_is_scalar:\n\u001b[0;32m-> 1007\u001b[0m     \u001b[38;5;28;01mreturn\u001b[39;00m \u001b[38;5;28;43mself\u001b[39;49m\u001b[38;5;241;43m.\u001b[39;49m\u001b[43m_get_value\u001b[49m\u001b[43m(\u001b[49m\u001b[43mkey\u001b[49m\u001b[43m)\u001b[49m\n\u001b[1;32m   1009\u001b[0m \u001b[38;5;28;01mif\u001b[39;00m is_hashable(key):\n\u001b[1;32m   1010\u001b[0m     \u001b[38;5;66;03m# Otherwise index.get_value will raise InvalidIndexError\u001b[39;00m\n\u001b[1;32m   1011\u001b[0m     \u001b[38;5;28;01mtry\u001b[39;00m:\n\u001b[1;32m   1012\u001b[0m         \u001b[38;5;66;03m# For labels that don't resolve as scalars like tuples and frozensets\u001b[39;00m\n",
      "File \u001b[0;32m~/.local/share/virtualenvs/project-w4pzjVjZ/lib/python3.9/site-packages/pandas/core/series.py:1116\u001b[0m, in \u001b[0;36mSeries._get_value\u001b[0;34m(self, label, takeable)\u001b[0m\n\u001b[1;32m   1113\u001b[0m     \u001b[38;5;28;01mreturn\u001b[39;00m \u001b[38;5;28mself\u001b[39m\u001b[38;5;241m.\u001b[39m_values[label]\n\u001b[1;32m   1115\u001b[0m \u001b[38;5;66;03m# Similar to Index.get_value, but we do not fall back to positional\u001b[39;00m\n\u001b[0;32m-> 1116\u001b[0m loc \u001b[38;5;241m=\u001b[39m \u001b[38;5;28;43mself\u001b[39;49m\u001b[38;5;241;43m.\u001b[39;49m\u001b[43mindex\u001b[49m\u001b[38;5;241;43m.\u001b[39;49m\u001b[43mget_loc\u001b[49m\u001b[43m(\u001b[49m\u001b[43mlabel\u001b[49m\u001b[43m)\u001b[49m\n\u001b[1;32m   1118\u001b[0m \u001b[38;5;28;01mif\u001b[39;00m is_integer(loc):\n\u001b[1;32m   1119\u001b[0m     \u001b[38;5;28;01mreturn\u001b[39;00m \u001b[38;5;28mself\u001b[39m\u001b[38;5;241m.\u001b[39m_values[loc]\n",
      "File \u001b[0;32m~/.local/share/virtualenvs/project-w4pzjVjZ/lib/python3.9/site-packages/pandas/core/indexes/datetimes.py:559\u001b[0m, in \u001b[0;36mDatetimeIndex.get_loc\u001b[0;34m(self, key)\u001b[0m\n\u001b[1;32m    557\u001b[0m     parsed, reso \u001b[38;5;241m=\u001b[39m \u001b[38;5;28mself\u001b[39m\u001b[38;5;241m.\u001b[39m_parse_with_reso(key)\n\u001b[1;32m    558\u001b[0m \u001b[38;5;28;01mexcept\u001b[39;00m (\u001b[38;5;167;01mValueError\u001b[39;00m, pytz\u001b[38;5;241m.\u001b[39mNonExistentTimeError) \u001b[38;5;28;01mas\u001b[39;00m err:\n\u001b[0;32m--> 559\u001b[0m     \u001b[38;5;28;01mraise\u001b[39;00m \u001b[38;5;167;01mKeyError\u001b[39;00m(key) \u001b[38;5;28;01mfrom\u001b[39;00m \u001b[38;5;21;01merr\u001b[39;00m\n\u001b[1;32m    560\u001b[0m \u001b[38;5;28mself\u001b[39m\u001b[38;5;241m.\u001b[39m_disallow_mismatched_indexing(parsed)\n\u001b[1;32m    562\u001b[0m \u001b[38;5;28;01mif\u001b[39;00m \u001b[38;5;28mself\u001b[39m\u001b[38;5;241m.\u001b[39m_can_partial_date_slice(reso):\n",
      "\u001b[0;31mKeyError\u001b[0m: '1.0'"
     ]
    }
   ],
   "source": [
    "series[ \"1.0\" ].index[ 2: ]"
   ]
  },
  {
   "cell_type": "code",
   "execution_count": null,
   "id": "7f9daa73-480c-4a01-99ee-d84c9d93fe76",
   "metadata": {},
   "outputs": [],
   "source": []
  }
 ],
 "metadata": {
  "kernelspec": {
   "display_name": "Python 3 (ipykernel)",
   "language": "python",
   "name": "python3"
  },
  "language_info": {
   "codemirror_mode": {
    "name": "ipython",
    "version": 3
   },
   "file_extension": ".py",
   "mimetype": "text/x-python",
   "name": "python",
   "nbconvert_exporter": "python",
   "pygments_lexer": "ipython3",
   "version": "3.9.1"
  }
 },
 "nbformat": 4,
 "nbformat_minor": 5
}
