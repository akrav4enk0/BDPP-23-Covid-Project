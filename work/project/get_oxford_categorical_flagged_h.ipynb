{
 "cells": [
  {
   "cell_type": "code",
   "execution_count": 2,
   "id": "fe42fe42-2038-4f5f-b207-a351cbda4df1",
   "metadata": {},
   "outputs": [],
   "source": [
    "%run -i writefile2.py"
   ]
  },
  {
   "cell_type": "code",
   "execution_count": 3,
   "id": "ad00eb20-277c-427e-ad67-84dca0ab228b",
   "metadata": {},
   "outputs": [],
   "source": [
    "%%writefile2\n",
    "\n",
    "import pandas as pd\n",
    "from IPython.display import display, HTML\n",
    "import matplotlib.pyplot as plt\n",
    "import math\n",
    "import require\n",
    "import os\n",
    "get_oxford_df = require.single( \"get_oxford_df\" )\n",
    "\n",
    "def get_oxford_categorical_flagged( country, indicator, verbose = True ):\n",
    "\n",
    "    series_file = f\"data/{ indicator }.csv\"\n",
    "    flag_file = f\"data/{ indicator.split( '_' )[ 0 ]}_flag.csv\"\n",
    "    \n",
    "    series_df = get_oxford_df( series_file, country )\n",
    "\n",
    "    if not os.path.exists( flag_file ):\n",
    "\n",
    "        flag_df = series_df.copy( )\n",
    "        flag_df.series = 1.0\n",
    "    \n",
    "    else:\n",
    "    \n",
    "            flag_df = get_oxford_df( flag_file, country )\n",
    "    \n",
    "    flag_df.columns = [ \"flag\" ]\n",
    "\n",
    "    if verbose:\n",
    "\n",
    "        display( HTML( f\"<h1>{ indicator.replace( '_', ' ' )} in { country }</h1>\" ))\n",
    "\n",
    "    dual_df = pd.concat([ series_df, flag_df ], axis = 1 )\n",
    "    \n",
    "    if verbose:\n",
    "\n",
    "        display( HTML( f\"<h3>series & flag</h3></p>Note: the Nan values for flag correspond exactly to the times where no measure was taken, it is not missing data<p>\" ))\n",
    "        dual_df.plot( )\n",
    "        plt.show( )\n",
    "\n",
    "    masked_series = (( flag_df.flag == 1 ) * series_df.series )\n",
    "\n",
    "    if verbose:\n",
    "\n",
    "        display( HTML( f\"<h3>masked series</h3><p>filtered out only measures that are nation-wide and not only regionally targeted</p>\" ))\n",
    "        masked_series.plot( )\n",
    "        plt.show( )\n",
    "\n",
    "    nnz_values = [ v for v in masked_series.unique( ) if not math.isnan( v ) and not v == 0 ]\n",
    "    nnz_values.sort( )\n",
    "\n",
    "    if verbose:\n",
    "\n",
    "        display( HTML( f\"<h3>categorical non-zero values</h3><p>{ nnz_values }</p>\" ))\n",
    "\n",
    "    dummy_series = { f\"{ v }\": ( masked_series == v ).astype( int ) for v in nnz_values }\n",
    "\n",
    "    if verbose:\n",
    "\n",
    "        display( HTML( f\"<h3>categorical-dummy series</h3>\" ))\n",
    "        \n",
    "        n = len( dummy_series )\n",
    "        fig, axs = plt.subplots( 1, n, figsize = ( 4 * n, 4 ))\n",
    "        \n",
    "        if( n > 1 ):\n",
    "        \n",
    "            axs = axs.ravel( )\n",
    "        \n",
    "        for i, ( v, series ) in enumerate( dummy_series.items( )):\n",
    "        \n",
    "            series.plot( title = v, ax = axs[ i ] if n > 1 else axs )\n",
    "        \n",
    "        plt.show( )\n",
    "    \n",
    "    return dummy_series"
   ]
  },
  {
   "cell_type": "code",
   "execution_count": 4,
   "id": "dde43724-e7cc-4777-ab63-e02e9a135787",
   "metadata": {},
   "outputs": [
    {
     "ename": "ValueError",
     "evalue": "Length mismatch: Expected axis has 52 elements, new values have 1 elements",
     "output_type": "error",
     "traceback": [
      "\u001b[0;31m---------------------------------------------------------------------------\u001b[0m",
      "\u001b[0;31mValueError\u001b[0m                                Traceback (most recent call last)",
      "Cell \u001b[0;32mIn[4], line 3\u001b[0m\n\u001b[1;32m      1\u001b[0m country \u001b[38;5;241m=\u001b[39m \u001b[38;5;124m\"\u001b[39m\u001b[38;5;124mUnited States\u001b[39m\u001b[38;5;124m\"\u001b[39m\n\u001b[1;32m      2\u001b[0m indicator \u001b[38;5;241m=\u001b[39m \u001b[38;5;124m\"\u001b[39m\u001b[38;5;124mc8ev_internationaltravel\u001b[39m\u001b[38;5;124m\"\u001b[39m\n\u001b[0;32m----> 3\u001b[0m dummy_series \u001b[38;5;241m=\u001b[39m \u001b[43mget_oxford_categorical_flagged\u001b[49m\u001b[43m(\u001b[49m\u001b[43m \u001b[49m\u001b[43mcountry\u001b[49m\u001b[43m,\u001b[49m\u001b[43m \u001b[49m\u001b[43mindicator\u001b[49m\u001b[43m \u001b[49m\u001b[43m)\u001b[49m\n",
      "File \u001b[0;32m<string>:19\u001b[0m, in \u001b[0;36mget_oxford_categorical_flagged\u001b[0;34m(country, indicator, verbose)\u001b[0m\n",
      "File \u001b[0;32m/work/project/get_oxford_df.py:29\u001b[0m, in \u001b[0;36mget_oxford_df\u001b[0;34m(file, country)\u001b[0m\n\u001b[1;32m     27\u001b[0m \u001b[38;5;66;03m# Create the DataFrame\u001b[39;00m\n\u001b[1;32m     28\u001b[0m df_country\u001b[38;5;241m.\u001b[39mindex \u001b[38;5;241m=\u001b[39m datetime_index\n\u001b[0;32m---> 29\u001b[0m \u001b[43mdf_country\u001b[49m\u001b[38;5;241;43m.\u001b[39;49m\u001b[43mcolumns\u001b[49m \u001b[38;5;241m=\u001b[39m [ \u001b[38;5;124m\"\u001b[39m\u001b[38;5;124mseries\u001b[39m\u001b[38;5;124m\"\u001b[39m ]\n\u001b[1;32m     31\u001b[0m \u001b[38;5;28;01mreturn\u001b[39;00m df_country\n",
      "File \u001b[0;32m~/.local/share/virtualenvs/project-w4pzjVjZ/lib/python3.9/site-packages/pandas/core/generic.py:6002\u001b[0m, in \u001b[0;36mNDFrame.__setattr__\u001b[0;34m(self, name, value)\u001b[0m\n\u001b[1;32m   6000\u001b[0m \u001b[38;5;28;01mtry\u001b[39;00m:\n\u001b[1;32m   6001\u001b[0m     \u001b[38;5;28mobject\u001b[39m\u001b[38;5;241m.\u001b[39m\u001b[38;5;21m__getattribute__\u001b[39m(\u001b[38;5;28mself\u001b[39m, name)\n\u001b[0;32m-> 6002\u001b[0m     \u001b[38;5;28;01mreturn\u001b[39;00m \u001b[38;5;28;43mobject\u001b[39;49m\u001b[38;5;241;43m.\u001b[39;49m\u001b[38;5;21;43m__setattr__\u001b[39;49m\u001b[43m(\u001b[49m\u001b[38;5;28;43mself\u001b[39;49m\u001b[43m,\u001b[49m\u001b[43m \u001b[49m\u001b[43mname\u001b[49m\u001b[43m,\u001b[49m\u001b[43m \u001b[49m\u001b[43mvalue\u001b[49m\u001b[43m)\u001b[49m\n\u001b[1;32m   6003\u001b[0m \u001b[38;5;28;01mexcept\u001b[39;00m \u001b[38;5;167;01mAttributeError\u001b[39;00m:\n\u001b[1;32m   6004\u001b[0m     \u001b[38;5;28;01mpass\u001b[39;00m\n",
      "File \u001b[0;32m~/.local/share/virtualenvs/project-w4pzjVjZ/lib/python3.9/site-packages/pandas/_libs/properties.pyx:69\u001b[0m, in \u001b[0;36mpandas._libs.properties.AxisProperty.__set__\u001b[0;34m()\u001b[0m\n",
      "File \u001b[0;32m~/.local/share/virtualenvs/project-w4pzjVjZ/lib/python3.9/site-packages/pandas/core/generic.py:730\u001b[0m, in \u001b[0;36mNDFrame._set_axis\u001b[0;34m(self, axis, labels)\u001b[0m\n\u001b[1;32m    725\u001b[0m \u001b[38;5;250m\u001b[39m\u001b[38;5;124;03m\"\"\"\u001b[39;00m\n\u001b[1;32m    726\u001b[0m \u001b[38;5;124;03mThis is called from the cython code when we set the `index` attribute\u001b[39;00m\n\u001b[1;32m    727\u001b[0m \u001b[38;5;124;03mdirectly, e.g. `series.index = [1, 2, 3]`.\u001b[39;00m\n\u001b[1;32m    728\u001b[0m \u001b[38;5;124;03m\"\"\"\u001b[39;00m\n\u001b[1;32m    729\u001b[0m labels \u001b[38;5;241m=\u001b[39m ensure_index(labels)\n\u001b[0;32m--> 730\u001b[0m \u001b[38;5;28;43mself\u001b[39;49m\u001b[38;5;241;43m.\u001b[39;49m\u001b[43m_mgr\u001b[49m\u001b[38;5;241;43m.\u001b[39;49m\u001b[43mset_axis\u001b[49m\u001b[43m(\u001b[49m\u001b[43maxis\u001b[49m\u001b[43m,\u001b[49m\u001b[43m \u001b[49m\u001b[43mlabels\u001b[49m\u001b[43m)\u001b[49m\n\u001b[1;32m    731\u001b[0m \u001b[38;5;28mself\u001b[39m\u001b[38;5;241m.\u001b[39m_clear_item_cache()\n",
      "File \u001b[0;32m~/.local/share/virtualenvs/project-w4pzjVjZ/lib/python3.9/site-packages/pandas/core/internals/managers.py:225\u001b[0m, in \u001b[0;36mBaseBlockManager.set_axis\u001b[0;34m(self, axis, new_labels)\u001b[0m\n\u001b[1;32m    223\u001b[0m \u001b[38;5;28;01mdef\u001b[39;00m \u001b[38;5;21mset_axis\u001b[39m(\u001b[38;5;28mself\u001b[39m, axis: AxisInt, new_labels: Index) \u001b[38;5;241m-\u001b[39m\u001b[38;5;241m>\u001b[39m \u001b[38;5;28;01mNone\u001b[39;00m:\n\u001b[1;32m    224\u001b[0m     \u001b[38;5;66;03m# Caller is responsible for ensuring we have an Index object.\u001b[39;00m\n\u001b[0;32m--> 225\u001b[0m     \u001b[38;5;28;43mself\u001b[39;49m\u001b[38;5;241;43m.\u001b[39;49m\u001b[43m_validate_set_axis\u001b[49m\u001b[43m(\u001b[49m\u001b[43maxis\u001b[49m\u001b[43m,\u001b[49m\u001b[43m \u001b[49m\u001b[43mnew_labels\u001b[49m\u001b[43m)\u001b[49m\n\u001b[1;32m    226\u001b[0m     \u001b[38;5;28mself\u001b[39m\u001b[38;5;241m.\u001b[39maxes[axis] \u001b[38;5;241m=\u001b[39m new_labels\n",
      "File \u001b[0;32m~/.local/share/virtualenvs/project-w4pzjVjZ/lib/python3.9/site-packages/pandas/core/internals/base.py:70\u001b[0m, in \u001b[0;36mDataManager._validate_set_axis\u001b[0;34m(self, axis, new_labels)\u001b[0m\n\u001b[1;32m     67\u001b[0m     \u001b[38;5;28;01mpass\u001b[39;00m\n\u001b[1;32m     69\u001b[0m \u001b[38;5;28;01melif\u001b[39;00m new_len \u001b[38;5;241m!=\u001b[39m old_len:\n\u001b[0;32m---> 70\u001b[0m     \u001b[38;5;28;01mraise\u001b[39;00m \u001b[38;5;167;01mValueError\u001b[39;00m(\n\u001b[1;32m     71\u001b[0m         \u001b[38;5;124mf\u001b[39m\u001b[38;5;124m\"\u001b[39m\u001b[38;5;124mLength mismatch: Expected axis has \u001b[39m\u001b[38;5;132;01m{\u001b[39;00mold_len\u001b[38;5;132;01m}\u001b[39;00m\u001b[38;5;124m elements, new \u001b[39m\u001b[38;5;124m\"\u001b[39m\n\u001b[1;32m     72\u001b[0m         \u001b[38;5;124mf\u001b[39m\u001b[38;5;124m\"\u001b[39m\u001b[38;5;124mvalues have \u001b[39m\u001b[38;5;132;01m{\u001b[39;00mnew_len\u001b[38;5;132;01m}\u001b[39;00m\u001b[38;5;124m elements\u001b[39m\u001b[38;5;124m\"\u001b[39m\n\u001b[1;32m     73\u001b[0m     )\n",
      "\u001b[0;31mValueError\u001b[0m: Length mismatch: Expected axis has 52 elements, new values have 1 elements"
     ]
    }
   ],
   "source": [
    "country = \"United States\"\n",
    "indicator = \"c8ev_internationaltravel\"\n",
    "dummy_series = get_oxford_categorical_flagged( country, indicator )"
   ]
  },
  {
   "cell_type": "code",
   "execution_count": 41,
   "id": "c427334f-f2f7-44e4-b663-4eb58762847d",
   "metadata": {},
   "outputs": [
    {
     "data": {
      "text/plain": [
       "DatetimeIndex(['2020-01-03', '2020-01-04', '2020-01-05', '2020-01-06',\n",
       "               '2020-01-07', '2020-01-08', '2020-01-09', '2020-01-10',\n",
       "               '2020-01-11', '2020-01-12',\n",
       "               ...\n",
       "               '2023-02-11', '2023-02-12', '2023-02-13', '2023-02-14',\n",
       "               '2023-02-15', '2023-02-16', '2023-02-17', '2023-02-18',\n",
       "               '2023-02-19', '2023-02-20'],\n",
       "              dtype='datetime64[ns]', length=1145, freq=None)"
      ]
     },
     "execution_count": 41,
     "metadata": {},
     "output_type": "execute_result"
    }
   ],
   "source": [
    "dummy_series[ \"1.0\" ].index[ 2: ]"
   ]
  },
  {
   "cell_type": "code",
   "execution_count": null,
   "id": "7f9daa73-480c-4a01-99ee-d84c9d93fe76",
   "metadata": {},
   "outputs": [],
   "source": []
  }
 ],
 "metadata": {
  "kernelspec": {
   "display_name": "Python 3 (ipykernel)",
   "language": "python",
   "name": "python3"
  },
  "language_info": {
   "codemirror_mode": {
    "name": "ipython",
    "version": 3
   },
   "file_extension": ".py",
   "mimetype": "text/x-python",
   "name": "python",
   "nbconvert_exporter": "python",
   "pygments_lexer": "ipython3",
   "version": "3.9.1"
  }
 },
 "nbformat": 4,
 "nbformat_minor": 5
}
