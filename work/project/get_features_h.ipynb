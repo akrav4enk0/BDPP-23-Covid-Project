{
 "cells": [
  {
   "cell_type": "code",
   "execution_count": 184,
   "id": "c641021b-8bb3-42e3-98a7-c264ffa3e426",
   "metadata": {},
   "outputs": [
    {
     "data": {
      "text/html": [
       "<p>all-valid interval (exclusive) <b>0:1145</b></p>"
      ],
      "text/plain": [
       "<IPython.core.display.HTML object>"
      ]
     },
     "metadata": {},
     "output_type": "display_data"
    },
    {
     "data": {
      "text/html": [
       "<p>you retain <b>92.6%</b> of your data</p>"
      ],
      "text/plain": [
       "<IPython.core.display.HTML object>"
      ]
     },
     "metadata": {},
     "output_type": "display_data"
    }
   ],
   "source": [
    "import require\n",
    "import numpy as np\n",
    "get_data_for_country = require.single( \"get_data_for_country\" )\n",
    "crop_to_valid_range = require.single( \"crop_to_valid_range\" )\n",
    "\n",
    "df = get_data_for_country( \"Germany\", verbose = False )\n",
    "# here we loose some time, but we use the dataframe it for window processing anyway and need NaN-free series\n",
    "df = crop_to_valid_range( df ).copy( ) "
   ]
  },
  {
   "cell_type": "code",
   "execution_count": 188,
   "id": "41f13e9e-a599-43f7-9aa6-84e002044710",
   "metadata": {},
   "outputs": [],
   "source": [
    "n, d = df.shape\n",
    "\n",
    "def process_left_window( df ):\n",
    "\n",
    "    return np.expand_dims( df.mean( axis = 0 ).to_numpy( ), 0 )\n",
    "\n",
    "def process_right_window( df ):\n",
    "\n",
    "    return np.expand_dims( df.mean( axis = 0 ).to_numpy( ), 0 )\n",
    "\n",
    "width = 10\n",
    "lag = 30\n",
    "\n",
    "def get_patch( i, width, lag ):\n",
    "\n",
    "    left = df.iloc[ i : i + width, : ]\n",
    "    # assume outcomes are the first 3 columns\n",
    "    right = df.iloc[ i + lag : i + lag + width, :3 ]\n",
    "    \n",
    "    left_features = process_left_window( left )\n",
    "    right_features = process_right_window( right )\n",
    "    X_row = left_features\n",
    "    Y_row = right_features\n",
    "\n",
    "    return X_row, Y_row    "
   ]
  },
  {
   "cell_type": "code",
   "execution_count": 189,
   "id": "ff0ea603-0d73-4ce3-b144-903ed0783bb0",
   "metadata": {},
   "outputs": [],
   "source": [
    "n_features_left = 20\n",
    "n_features_right = 3\n",
    "\n",
    "T = df.shape[ 0 ]\n",
    "n = T - width + 1 - lag - width + 1\n",
    "\n",
    "X = np.zeros(( n, n_features_left ))\n",
    "Y = np.zeros(( n, n_features_right ))\n",
    "for i in range( n ):\n",
    "\n",
    "    X[ i, : ], Y[ i, : ] = get_patch( i, width, lag )"
   ]
  },
  {
   "cell_type": "code",
   "execution_count": 190,
   "id": "5b5336e1-52f0-4988-83f6-b914e1b57ba5",
   "metadata": {},
   "outputs": [
    {
     "data": {
      "text/plain": [
       "array([[  0.    ,   0.    ,   0.    , ...,   0.    ,   0.    ,   0.    ],\n",
       "       [  0.    ,   0.    ,   0.    , ...,   0.    ,   0.    ,   0.    ],\n",
       "       [  0.    ,   0.    ,   0.    , ...,   0.    ,   0.    ,   0.    ],\n",
       "       ...,\n",
       "       [251.4584,   1.5825, 121.0978, ...,   0.    ,   0.    ,   0.    ],\n",
       "       [243.9575,   1.5268, 118.303 , ...,   0.    ,   0.    ,   0.    ],\n",
       "       [235.338 ,   1.4613, 114.8857, ...,   0.    ,   0.    ,   0.    ]])"
      ]
     },
     "execution_count": 190,
     "metadata": {},
     "output_type": "execute_result"
    }
   ],
   "source": [
    "X"
   ]
  },
  {
   "cell_type": "code",
   "execution_count": 169,
   "id": "9f14886e-e227-4a14-984f-a0435a3fb0cb",
   "metadata": {},
   "outputs": [],
   "source": []
  },
  {
   "cell_type": "code",
   "execution_count": null,
   "id": "16701169-0a8f-439e-8d9b-72eba8916fcd",
   "metadata": {},
   "outputs": [],
   "source": []
  }
 ],
 "metadata": {
  "kernelspec": {
   "display_name": "Python 3 (ipykernel)",
   "language": "python",
   "name": "python3"
  },
  "language_info": {
   "codemirror_mode": {
    "name": "ipython",
    "version": 3
   },
   "file_extension": ".py",
   "mimetype": "text/x-python",
   "name": "python",
   "nbconvert_exporter": "python",
   "pygments_lexer": "ipython3",
   "version": "3.9.1"
  }
 },
 "nbformat": 4,
 "nbformat_minor": 5
}
