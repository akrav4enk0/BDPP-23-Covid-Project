{
 "cells": [
  {
   "cell_type": "code",
   "execution_count": 1,
   "id": "6c24ad1a-8030-4145-b232-538377c8e798",
   "metadata": {
    "tags": []
   },
   "outputs": [],
   "source": [
    "import os\n",
    "import nodes\n",
    "files = list( filter( lambda s:len( s ), list( map( lambda l: l.split( \".py\" )[ 0 ], ( os.popen( \"grep -r @nodes.generic_node *.py\" ).read( )).split( \"\\n\" )))))"
   ]
  },
  {
   "cell_type": "code",
   "execution_count": 2,
   "id": "30d1aa1e-b874-4013-8345-83cced9b7f3f",
   "metadata": {
    "tags": []
   },
   "outputs": [
    {
     "name": "stdout",
     "output_type": "stream",
     "text": [
      "['data_for_country', 'node']\n",
      "['train_ensemble', 'node']\n",
      "['train_honest_forward', 'node']\n",
      "['train_weak_learner', 'node']\n",
      "['training_data', 'node']\n",
      "['window_patches', 'node']\n"
     ]
    }
   ],
   "source": [
    "import require\n",
    "\n",
    "for file in files:\n",
    "\n",
    "    mod = require.module( file, untracked = True )\n",
    "    ns = [ k for k, v in mod.__dict__.items( ) if type( v ) == type and ( issubclass( v, nodes.node_generic_base_t ) or issubclass( v, nodes.node_base_t ))]\n",
    "    print( ns )"
   ]
  },
  {
   "cell_type": "code",
   "execution_count": null,
   "id": "550df1e6-b5b0-4140-99f2-748da091ab4d",
   "metadata": {},
   "outputs": [],
   "source": []
  }
 ],
 "metadata": {
  "kernelspec": {
   "display_name": "Python 3 (ipykernel)",
   "language": "python",
   "name": "python3"
  },
  "language_info": {
   "codemirror_mode": {
    "name": "ipython",
    "version": 3
   },
   "file_extension": ".py",
   "mimetype": "text/x-python",
   "name": "python",
   "nbconvert_exporter": "python",
   "pygments_lexer": "ipython3",
   "version": "3.9.1"
  }
 },
 "nbformat": 4,
 "nbformat_minor": 5
}
