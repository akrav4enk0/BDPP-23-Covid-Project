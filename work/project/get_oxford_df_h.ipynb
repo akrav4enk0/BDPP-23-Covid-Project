{
 "cells": [
  {
   "cell_type": "code",
   "execution_count": 87,
   "id": "571424aa-0c31-43b0-a26a-101d58b0f9f2",
   "metadata": {},
   "outputs": [],
   "source": [
    "%run -i writefile2.py"
   ]
  },
  {
   "cell_type": "code",
   "execution_count": 88,
   "id": "21618dc1-8f31-4803-a619-e53f0853f1cc",
   "metadata": {},
   "outputs": [],
   "source": [
    "%%writefile2\n",
    "\n",
    "import datetime\n",
    "import pandas as pd\n",
    "import numpy as np\n",
    "\n",
    "def get_oxford_df( file, country ):\n",
    "\n",
    "    df = pd.read_csv( file )\n",
    "    df = df[ df.country_name == country ]\n",
    "    df = df[ df.region_code.to_numpy( dtype = str ) == \"nan\" ]\n",
    "    \n",
    "    df_t = df.T\n",
    "    \n",
    "    dates = list( df_t.index[ 6: ])\n",
    "    \n",
    "    # Given list of strings representing dates\n",
    "    dates = [ datetime.datetime.strptime( date, \"%d%b%Y\" ).strftime( \"%Y-%m-%d\" ) for date in dates ]\n",
    "    \n",
    "    # Convert the list of strings to a DateTimeIndex\n",
    "    datetime_index = pd.to_datetime(dates)\n",
    "    \n",
    "    # Given list of values for the \"Germany\" column\n",
    "    country_values = df_t.iloc[ 6:, : ]\n",
    "    \n",
    "    df_country = country_values\n",
    "    \n",
    "    # Create the DataFrame\n",
    "    df_country.index = datetime_index\n",
    "    df_country.columns = [ \"series\" ]\n",
    "\n",
    "    return df_country    "
   ]
  },
  {
   "cell_type": "code",
   "execution_count": null,
   "id": "158da223-c062-49f5-a45d-029ee007b5f4",
   "metadata": {},
   "outputs": [],
   "source": []
  }
 ],
 "metadata": {
  "kernelspec": {
   "display_name": "Python 3 (ipykernel)",
   "language": "python",
   "name": "python3"
  },
  "language_info": {
   "codemirror_mode": {
    "name": "ipython",
    "version": 3
   },
   "file_extension": ".py",
   "mimetype": "text/x-python",
   "name": "python",
   "nbconvert_exporter": "python",
   "pygments_lexer": "ipython3",
   "version": "3.9.1"
  }
 },
 "nbformat": 4,
 "nbformat_minor": 5
}
