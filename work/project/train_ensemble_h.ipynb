{
 "cells": [
  {
   "cell_type": "code",
   "execution_count": 3,
   "id": "78edd3b9-f885-43bc-a202-bd020ec732da",
   "metadata": {},
   "outputs": [],
   "source": [
    "%run -i writefile2.py"
   ]
  },
  {
   "cell_type": "code",
   "execution_count": 6,
   "id": "dee1ce15-0dad-4f0d-af7a-1569217e5e39",
   "metadata": {},
   "outputs": [],
   "source": [
    "%%writefile2\n",
    "import numpy as np\n",
    "from IPython.display import display, HTML\n",
    "import require\n",
    "train_weak_learner = require.single( \"train_weak_learner\" )\n",
    "\n",
    "def train_ensemble( train_set, verbose = 1 ):\n",
    "\n",
    "    if verbose >= 1:\n",
    "\n",
    "        display( HTML( f\"<h1>Ensemble Training</h1>\" ))\n",
    "    \n",
    "    def first_last( l ):\n",
    "\n",
    "        M = np.zeros(( 2, l ))\n",
    "        M[ 0, 0 ] = 1\n",
    "        M[ 1, l - 1 ] = 1\n",
    "        return M\n",
    "    \n",
    "    def mean( l ):\n",
    "\n",
    "        return np.ones(( 1, l )) / l\n",
    "\n",
    "    def gradient( l ):\n",
    "    \n",
    "        grad = np.zeros(( l, l ))\n",
    "        #grad[ np.arange( l - 1 ) + 1, ( np.arange( l - 1 )) % l ] = -1 # for left diagonal\n",
    "        grad[ np.arange( l ), np.arange( l )] = -1\n",
    "        grad[ np.arange( l - 1 ), ( np.arange( l - 1 ) + 1 ) % l ] = 1\n",
    "        return grad\n",
    "    \n",
    "    ensemble = [ ]\n",
    "    length_r = 100\n",
    "    \n",
    "    learner = train_weak_learner( train_set, length_l = length_r, lag = 50, length_r = length_r, linear_operator = mean( length_r ) @ gradient( length_r ) @ gradient( length_r ), verbose = False )    \n",
    "    ensemble.append( learner )\n",
    "    \n",
    "    learner = train_weak_learner( train_set, length_l = length_r, lag = 50, length_r = length_r, linear_operator = mean( length_r ) @ gradient( length_r ), verbose = False )    \n",
    "    ensemble.append( learner )\n",
    "\n",
    "    return ensemble\n",
    "    "
   ]
  },
  {
   "cell_type": "code",
   "execution_count": null,
   "id": "bde54e85-861f-4e38-96cd-b1dc73d4f616",
   "metadata": {},
   "outputs": [],
   "source": []
  }
 ],
 "metadata": {
  "kernelspec": {
   "display_name": "Python 3 (ipykernel)",
   "language": "python",
   "name": "python3"
  },
  "language_info": {
   "codemirror_mode": {
    "name": "ipython",
    "version": 3
   },
   "file_extension": ".py",
   "mimetype": "text/x-python",
   "name": "python",
   "nbconvert_exporter": "python",
   "pygments_lexer": "ipython3",
   "version": "3.9.1"
  }
 },
 "nbformat": 4,
 "nbformat_minor": 5
}
