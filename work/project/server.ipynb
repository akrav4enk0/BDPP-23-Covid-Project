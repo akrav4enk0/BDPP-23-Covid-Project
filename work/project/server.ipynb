{
 "cells": [
  {
   "cell_type": "code",
   "execution_count": 24,
   "id": "65f3b615-2a1f-4a74-957a-baad9a55cd7f",
   "metadata": {},
   "outputs": [],
   "source": [
    "%run -i writefile2.py"
   ]
  },
  {
   "cell_type": "code",
   "execution_count": 25,
   "id": "cbdb7375-56f6-405d-ab57-2934d87bf774",
   "metadata": {},
   "outputs": [],
   "source": [
    "%%writefile2 --name server.py\n",
    "\n",
    "from flask import Flask, render_template, send_from_directory\n",
    "from flask_socketio import SocketIO\n",
    "import os\n",
    "import require\n",
    "import functools\n",
    "get_data_for_country = require.single( \"get_data_for_country\" )\n",
    "\n",
    "app = Flask( __name__, static_folder = \"static\", static_url_path = '' )\n",
    "socketio = SocketIO(app)\n",
    "\n",
    "@functools.cache\n",
    "def load_data( country ):\n",
    "\n",
    "    print( f\"loading data for { country }\" )\n",
    "    return get_data_for_country( country, verbose = False )\n",
    "\n",
    "@app.route('/')\n",
    "def serve_index():\n",
    "    return send_from_directory('static', 'index.html')\n",
    "\n",
    "@socketio.event\n",
    "def my_event(json):\n",
    "    print('received json: ' + str(json))\n",
    "    return \"OK\", 200\n",
    "\n",
    "@socketio.event\n",
    "def get_data( country ):\n",
    "    series = load_data( country ).new_cases_smoothed_per_million\n",
    "    series.name = \"close\"\n",
    "    return series.to_csv( )\n",
    "\n",
    "def main( ):\n",
    "\n",
    "    try:\n",
    "\n",
    "        print( \"running...\" )\n",
    "        print( \"http://localhost:8080\" )\n",
    "        socketio.run( app, port = 8080, host = \"0.0.0.0\" )    \n",
    "\n",
    "    except:\n",
    "        \n",
    "        print( \"done.\" )\n",
    "\n",
    "if \"is_server\" in os.environ:\n",
    "\n",
    "    main( )"
   ]
  },
  {
   "cell_type": "code",
   "execution_count": 8,
   "id": "d88f8614-6100-4861-b8ac-a93af28e9583",
   "metadata": {},
   "outputs": [],
   "source": []
  },
  {
   "cell_type": "code",
   "execution_count": null,
   "id": "1b77173e-0fa0-4529-a995-90d703aac63a",
   "metadata": {},
   "outputs": [],
   "source": []
  }
 ],
 "metadata": {
  "kernelspec": {
   "display_name": "Python 3 (ipykernel)",
   "language": "python",
   "name": "python3"
  },
  "language_info": {
   "codemirror_mode": {
    "name": "ipython",
    "version": 3
   },
   "file_extension": ".py",
   "mimetype": "text/x-python",
   "name": "python",
   "nbconvert_exporter": "python",
   "pygments_lexer": "ipython3",
   "version": "3.9.1"
  }
 },
 "nbformat": 4,
 "nbformat_minor": 5
}
