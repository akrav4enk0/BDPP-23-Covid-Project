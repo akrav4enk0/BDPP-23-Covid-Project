{
 "cells": [
  {
   "cell_type": "code",
   "execution_count": null,
   "id": "cbdb7375-56f6-405d-ab57-2934d87bf774",
   "metadata": {},
   "outputs": [
    {
     "name": "stdout",
     "output_type": "stream",
     "text": [
      "running...\n"
     ]
    },
    {
     "data": {
      "text/html": [
       "<a href='http://localhost:8080' target='_blank'>http://localhost:8080</a>"
      ],
      "text/plain": [
       "<IPython.core.display.HTML object>"
      ]
     },
     "metadata": {},
     "output_type": "display_data"
    },
    {
     "name": "stdout",
     "output_type": "stream",
     "text": [
      "received json: {'data': \"I'm connected!\"}\n",
      "received json: {'data': \"I'm connected!\"}\n",
      "received json: {'data': \"I'm connected!\"}\n"
     ]
    }
   ],
   "source": [
    "from flask import Flask, render_template, send_from_directory\n",
    "from flask_socketio import SocketIO\n",
    "from IPython.display import display, HTML\n",
    "\n",
    "app = Flask(__name__)\n",
    "#app.config['SECRET_KEY'] = 'secret!'\n",
    "socketio = SocketIO(app)\n",
    "\n",
    "@app.route('/')\n",
    "def serve_index():\n",
    "    return send_from_directory('static', 'index.html')\n",
    "\n",
    "@socketio.on('my event')\n",
    "def handle_my_custom_event(json):\n",
    "    print('received json: ' + str(json))\n",
    "\n",
    "if __name__ == '__main__':\n",
    "\n",
    "    try:\n",
    "\n",
    "        print( \"running...\" )\n",
    "        display( HTML( \"<a href='http://localhost:8080' target='_blank'>http://localhost:8080</a>\" ))\n",
    "        socketio.run( app, port = 8080, host='0.0.0.0' )    \n",
    "\n",
    "    except:\n",
    "        \n",
    "        print( \"done.\" )"
   ]
  },
  {
   "cell_type": "code",
   "execution_count": null,
   "id": "573b94a4-333a-4da1-a291-b9d73282468d",
   "metadata": {},
   "outputs": [],
   "source": []
  }
 ],
 "metadata": {
  "kernelspec": {
   "display_name": "Python 3 (ipykernel)",
   "language": "python",
   "name": "python3"
  },
  "language_info": {
   "codemirror_mode": {
    "name": "ipython",
    "version": 3
   },
   "file_extension": ".py",
   "mimetype": "text/x-python",
   "name": "python",
   "nbconvert_exporter": "python",
   "pygments_lexer": "ipython3",
   "version": "3.9.1"
  }
 },
 "nbformat": 4,
 "nbformat_minor": 5
}
