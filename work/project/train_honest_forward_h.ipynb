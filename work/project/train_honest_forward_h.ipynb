{
 "cells": [
  {
   "cell_type": "code",
   "execution_count": 6,
   "id": "725c5a5a-defe-4723-83e9-e8482bd85751",
   "metadata": {},
   "outputs": [],
   "source": [
    "%run -i writefile2.py"
   ]
  },
  {
   "cell_type": "code",
   "execution_count": 9,
   "id": "2823615c-29b7-4288-8c91-6b2a48738fba",
   "metadata": {},
   "outputs": [],
   "source": [
    "%%writefile2 --name honest_forward.py --source train_honest_forward.ipynb\n",
    "\n",
    "import require\n",
    "import numpy as np\n",
    "train_weak_learner = require.single( \"train_weak_learner\" )\n",
    "n_outcomes = len( require.single( \"owid_outcomes\" ))\n",
    "\n",
    "class honest_forward:\n",
    "\n",
    "    def train( self, train_set ):\n",
    "\n",
    "        length_r = 1\n",
    "        learner = train_weak_learner( \n",
    "        \n",
    "            train_set, \n",
    "            length_l = 100, \n",
    "            lag = 50, \n",
    "            length_r = length_r, \n",
    "            linear_operator = np.identity( 1 ),\n",
    "            type = \"forest\"\n",
    "        )    \n",
    "    \n",
    "        self.__dict__.update( learner = learner )\n",
    "\n",
    "    def predict_replace( self, df, start = None, length = None, callback = None ):\n",
    "\n",
    "        callback = ( lambda * _: None ) if callback is None else callback\n",
    "        learner = self.learner\n",
    "        \n",
    "        min_start = learner.length_l + learner.lag\n",
    "        min_length = learner.length_r\n",
    "        \n",
    "        start = min_start if start is None else start\n",
    "        start = max( start, min_start )\n",
    "        length = df.shape[ 0 ] - start if length is None else length\n",
    "        assert length >= min_length\n",
    "        assert start + length <= df.shape[ 0 ]\n",
    "        \n",
    "        n_predictions = 1 + length - learner.length_r\n",
    "        M = learner.linear_operator\n",
    "        n_rows_total = M.shape[ 0 ] * n_predictions\n",
    "        lag = learner.lag\n",
    "\n",
    "        df_pred = df.copy( )\n",
    "        df_pred.iloc[ start:, :n_outcomes ] = np.nan\n",
    "    \n",
    "        for i in range( n_predictions ):\n",
    "    \n",
    "            window = df_pred.iloc[ start - lag - learner.length_l + i: start - lag + i, : ].to_numpy( )\n",
    "            y = learner.predict( window )\n",
    "            assert y.shape == ( learner.length_r, n_outcomes )\n",
    "            df_pred.iloc[ start + i: start + i + learner.length_r, :n_outcomes ] = y\n",
    "            callback(( i + 1 ) / n_predictions )\n",
    "    \n",
    "        return df_pred"
   ]
  },
  {
   "cell_type": "code",
   "execution_count": 13,
   "id": "12f2cb14-b044-41f4-8a6a-80d6826f5e1d",
   "metadata": {},
   "outputs": [],
   "source": [
    "%%writefile2\n",
    "import nodes\n",
    "import require\n",
    "\n",
    "@nodes.generic_node\n",
    "def train_honest_forward( subset = slice( None )):\n",
    "\n",
    "    model = require.single( \"honest_forward\" )\n",
    "    training_data_node = require.single( \"training_data\" )\n",
    "    \n",
    "    def main( training_data: training_data_node.given( )):\n",
    "\n",
    "        m = model( )\n",
    "        m.train( training_data.result[ subset ])\n",
    "        return m\n",
    "\n",
    "    return main\n",
    "\n",
    "node = train_honest_forward"
   ]
  },
  {
   "cell_type": "code",
   "execution_count": null,
   "id": "3e11eb8f-a8b0-4021-ae3c-224eb9c738e9",
   "metadata": {},
   "outputs": [],
   "source": []
  }
 ],
 "metadata": {
  "kernelspec": {
   "display_name": "Python 3 (ipykernel)",
   "language": "python",
   "name": "python3"
  },
  "language_info": {
   "codemirror_mode": {
    "name": "ipython",
    "version": 3
   },
   "file_extension": ".py",
   "mimetype": "text/x-python",
   "name": "python",
   "nbconvert_exporter": "python",
   "pygments_lexer": "ipython3",
   "version": "3.9.1"
  }
 },
 "nbformat": 4,
 "nbformat_minor": 5
}
