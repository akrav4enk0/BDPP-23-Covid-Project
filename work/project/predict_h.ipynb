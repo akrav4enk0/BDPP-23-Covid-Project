{
 "cells": [
  {
   "cell_type": "code",
   "execution_count": 1,
   "id": "c641021b-8bb3-42e3-98a7-c264ffa3e426",
   "metadata": {},
   "outputs": [
    {
     "data": {
      "text/html": [
       "<h1>Training data</h1>"
      ],
      "text/plain": [
       "<IPython.core.display.HTML object>"
      ]
     },
     "metadata": {},
     "output_type": "display_data"
    },
    {
     "name": "stdout",
     "output_type": "stream",
     "text": [
      "  0%|                                                                                                            | 0/11 [00:00<?, ?it/s]"
     ]
    },
    {
     "data": {
      "text/html": [
       "<h3>Germany</h3>"
      ],
      "text/plain": [
       "<IPython.core.display.HTML object>"
      ]
     },
     "metadata": {},
     "output_type": "display_data"
    },
    {
     "data": {
      "text/html": [
       "<p>all-valid interval (exclusive) <b>58:1145</b></p>"
      ],
      "text/plain": [
       "<IPython.core.display.HTML object>"
      ]
     },
     "metadata": {},
     "output_type": "display_data"
    },
    {
     "data": {
      "text/html": [
       "<p>you retain <b>87.9%</b> of your data</p>"
      ],
      "text/plain": [
       "<IPython.core.display.HTML object>"
      ]
     },
     "metadata": {},
     "output_type": "display_data"
    },
    {
     "name": "stdout",
     "output_type": "stream",
     "text": [
      "  9%|█████████                                                                                           | 1/11 [00:03<00:32,  3.29s/it]"
     ]
    },
    {
     "data": {
      "text/html": [
       "<h3>Switzerland</h3>"
      ],
      "text/plain": [
       "<IPython.core.display.HTML object>"
      ]
     },
     "metadata": {},
     "output_type": "display_data"
    },
    {
     "data": {
      "text/html": [
       "<p>all-valid interval (exclusive) <b>58:1095</b></p>"
      ],
      "text/plain": [
       "<IPython.core.display.HTML object>"
      ]
     },
     "metadata": {},
     "output_type": "display_data"
    },
    {
     "data": {
      "text/html": [
       "<p>you retain <b>84.2%</b> of your data</p>"
      ],
      "text/plain": [
       "<IPython.core.display.HTML object>"
      ]
     },
     "metadata": {},
     "output_type": "display_data"
    },
    {
     "name": "stdout",
     "output_type": "stream",
     "text": [
      " 18%|██████████████████▏                                                                                 | 2/11 [00:06<00:28,  3.14s/it]"
     ]
    },
    {
     "data": {
      "text/html": [
       "<h3>Italy</h3>"
      ],
      "text/plain": [
       "<IPython.core.display.HTML object>"
      ]
     },
     "metadata": {},
     "output_type": "display_data"
    },
    {
     "data": {
      "text/html": [
       "<p>all-valid interval (exclusive) <b>54:1145</b></p>"
      ],
      "text/plain": [
       "<IPython.core.display.HTML object>"
      ]
     },
     "metadata": {},
     "output_type": "display_data"
    },
    {
     "data": {
      "text/html": [
       "<p>you retain <b>88.3%</b> of your data</p>"
      ],
      "text/plain": [
       "<IPython.core.display.HTML object>"
      ]
     },
     "metadata": {},
     "output_type": "display_data"
    },
    {
     "name": "stdout",
     "output_type": "stream",
     "text": [
      " 27%|███████████████████████████▎                                                                        | 3/11 [00:09<00:23,  2.99s/it]"
     ]
    },
    {
     "data": {
      "text/html": [
       "<h3>France</h3>"
      ],
      "text/plain": [
       "<IPython.core.display.HTML object>"
      ]
     },
     "metadata": {},
     "output_type": "display_data"
    },
    {
     "data": {
      "text/html": [
       "<p>all-valid interval (exclusive) <b>82:1145</b></p>"
      ],
      "text/plain": [
       "<IPython.core.display.HTML object>"
      ]
     },
     "metadata": {},
     "output_type": "display_data"
    },
    {
     "data": {
      "text/html": [
       "<p>you retain <b>86.4%</b> of your data</p>"
      ],
      "text/plain": [
       "<IPython.core.display.HTML object>"
      ]
     },
     "metadata": {},
     "output_type": "display_data"
    },
    {
     "data": {
      "text/html": [
       "<p>warning 'new_deaths_smoothed_per_million' has 2 nan(s). performed forward fill.</p>"
      ],
      "text/plain": [
       "<IPython.core.display.HTML object>"
      ]
     },
     "metadata": {},
     "output_type": "display_data"
    },
    {
     "name": "stdout",
     "output_type": "stream",
     "text": [
      " 36%|████████████████████████████████████▎                                                               | 4/11 [00:12<00:20,  2.96s/it]"
     ]
    },
    {
     "data": {
      "text/html": [
       "<h3>Belgium</h3>"
      ],
      "text/plain": [
       "<IPython.core.display.HTML object>"
      ]
     },
     "metadata": {},
     "output_type": "display_data"
    },
    {
     "data": {
      "text/html": [
       "<p>all-valid interval (exclusive) <b>78:1145</b></p>"
      ],
      "text/plain": [
       "<IPython.core.display.HTML object>"
      ]
     },
     "metadata": {},
     "output_type": "display_data"
    },
    {
     "data": {
      "text/html": [
       "<p>you retain <b>86.7%</b> of your data</p>"
      ],
      "text/plain": [
       "<IPython.core.display.HTML object>"
      ]
     },
     "metadata": {},
     "output_type": "display_data"
    },
    {
     "name": "stdout",
     "output_type": "stream",
     "text": [
      " 45%|█████████████████████████████████████████████▍                                                      | 5/11 [00:15<00:18,  3.01s/it]"
     ]
    },
    {
     "data": {
      "text/html": [
       "<h3>United States</h3>"
      ],
      "text/plain": [
       "<IPython.core.display.HTML object>"
      ]
     },
     "metadata": {},
     "output_type": "display_data"
    },
    {
     "data": {
      "text/html": [
       "<p>all-valid interval (exclusive) <b>200:1145</b></p>"
      ],
      "text/plain": [
       "<IPython.core.display.HTML object>"
      ]
     },
     "metadata": {},
     "output_type": "display_data"
    },
    {
     "data": {
      "text/html": [
       "<p>you retain <b>76.6%</b> of your data</p>"
      ],
      "text/plain": [
       "<IPython.core.display.HTML object>"
      ]
     },
     "metadata": {},
     "output_type": "display_data"
    },
    {
     "data": {
      "text/html": [
       "<p>warning 'new_deaths_smoothed_per_million' has 1 nan(s). performed forward fill.</p>"
      ],
      "text/plain": [
       "<IPython.core.display.HTML object>"
      ]
     },
     "metadata": {},
     "output_type": "display_data"
    },
    {
     "name": "stdout",
     "output_type": "stream",
     "text": [
      " 55%|██████████████████████████████████████████████████████▌                                             | 6/11 [00:18<00:15,  3.02s/it]"
     ]
    },
    {
     "data": {
      "text/html": [
       "<h3>Spain</h3>"
      ],
      "text/plain": [
       "<IPython.core.display.HTML object>"
      ]
     },
     "metadata": {},
     "output_type": "display_data"
    },
    {
     "data": {
      "text/html": [
       "<p>all-valid interval (exclusive) <b>217:1145</b></p>"
      ],
      "text/plain": [
       "<IPython.core.display.HTML object>"
      ]
     },
     "metadata": {},
     "output_type": "display_data"
    },
    {
     "data": {
      "text/html": [
       "<p>you retain <b>75.4%</b> of your data</p>"
      ],
      "text/plain": [
       "<IPython.core.display.HTML object>"
      ]
     },
     "metadata": {},
     "output_type": "display_data"
    },
    {
     "name": "stdout",
     "output_type": "stream",
     "text": [
      " 64%|███████████████████████████████████████████████████████████████▋                                    | 7/11 [00:20<00:11,  2.93s/it]"
     ]
    },
    {
     "data": {
      "text/html": [
       "<h3>United Kingdom</h3>"
      ],
      "text/plain": [
       "<IPython.core.display.HTML object>"
      ]
     },
     "metadata": {},
     "output_type": "display_data"
    },
    {
     "data": {
      "text/html": [
       "<p>all-valid interval (exclusive) <b>95:983</b></p>"
      ],
      "text/plain": [
       "<IPython.core.display.HTML object>"
      ]
     },
     "metadata": {},
     "output_type": "display_data"
    },
    {
     "data": {
      "text/html": [
       "<p>you retain <b>72.1%</b> of your data</p>"
      ],
      "text/plain": [
       "<IPython.core.display.HTML object>"
      ]
     },
     "metadata": {},
     "output_type": "display_data"
    },
    {
     "name": "stdout",
     "output_type": "stream",
     "text": [
      " 73%|████████████████████████████████████████████████████████████████████████▋                           | 8/11 [00:23<00:08,  2.90s/it]"
     ]
    },
    {
     "data": {
      "text/html": [
       "<h3>Malaysia</h3>"
      ],
      "text/plain": [
       "<IPython.core.display.HTML object>"
      ]
     },
     "metadata": {},
     "output_type": "display_data"
    },
    {
     "data": {
      "text/html": [
       "<p>all-valid interval (exclusive) <b>87:1145</b></p>"
      ],
      "text/plain": [
       "<IPython.core.display.HTML object>"
      ]
     },
     "metadata": {},
     "output_type": "display_data"
    },
    {
     "data": {
      "text/html": [
       "<p>you retain <b>85.6%</b> of your data</p>"
      ],
      "text/plain": [
       "<IPython.core.display.HTML object>"
      ]
     },
     "metadata": {},
     "output_type": "display_data"
    },
    {
     "name": "stdout",
     "output_type": "stream",
     "text": [
      " 82%|█████████████████████████████████████████████████████████████████████████████████▊                  | 9/11 [00:26<00:05,  2.90s/it]"
     ]
    },
    {
     "data": {
      "text/html": [
       "<h3>South Korea</h3>"
      ],
      "text/plain": [
       "<IPython.core.display.HTML object>"
      ]
     },
     "metadata": {},
     "output_type": "display_data"
    },
    {
     "data": {
      "text/html": [
       "<p>all-valid interval (exclusive) <b>680:1145</b></p>"
      ],
      "text/plain": [
       "<IPython.core.display.HTML object>"
      ]
     },
     "metadata": {},
     "output_type": "display_data"
    },
    {
     "data": {
      "text/html": [
       "<p>you retain <b>37.6%</b> of your data</p>"
      ],
      "text/plain": [
       "<IPython.core.display.HTML object>"
      ]
     },
     "metadata": {},
     "output_type": "display_data"
    },
    {
     "data": {
      "text/html": [
       "<p>warning 'weekly_hosp_admissions_per_million' has 5 nan(s). performed forward fill.</p>"
      ],
      "text/plain": [
       "<IPython.core.display.HTML object>"
      ]
     },
     "metadata": {},
     "output_type": "display_data"
    },
    {
     "name": "stdout",
     "output_type": "stream",
     "text": [
      " 91%|██████████████████████████████████████████████████████████████████████████████████████████         | 10/11 [00:29<00:02,  2.91s/it]"
     ]
    },
    {
     "data": {
      "text/html": [
       "<h3>Chile</h3>"
      ],
      "text/plain": [
       "<IPython.core.display.HTML object>"
      ]
     },
     "metadata": {},
     "output_type": "display_data"
    },
    {
     "data": {
      "text/html": [
       "<p>all-valid interval (exclusive) <b>95:1145</b></p>"
      ],
      "text/plain": [
       "<IPython.core.display.HTML object>"
      ]
     },
     "metadata": {},
     "output_type": "display_data"
    },
    {
     "data": {
      "text/html": [
       "<p>you retain <b>85.1%</b> of your data</p>"
      ],
      "text/plain": [
       "<IPython.core.display.HTML object>"
      ]
     },
     "metadata": {},
     "output_type": "display_data"
    },
    {
     "name": "stdout",
     "output_type": "stream",
     "text": [
      "100%|███████████████████████████████████████████████████████████████████████████████████████████████████| 11/11 [00:32<00:00,  2.96s/it]\n"
     ]
    }
   ],
   "source": [
    "import require\n",
    "\n",
    "get_training_data = require.single( \"get_training_data\" )\n",
    "dataframes = get_training_data( )"
   ]
  },
  {
   "cell_type": "code",
   "execution_count": 2,
   "id": "20122352-b66a-4a93-b3c2-a16fb72a8d16",
   "metadata": {},
   "outputs": [
    {
     "data": {
      "text/html": [
       "<h1>Ensemble Training</h1>"
      ],
      "text/plain": [
       "<IPython.core.display.HTML object>"
      ]
     },
     "metadata": {},
     "output_type": "display_data"
    }
   ],
   "source": [
    "train_ensemble = require.single( \"train_ensemble\" )\n",
    "ensemble = train_ensemble( dataframes[ :-1 ])"
   ]
  },
  {
   "cell_type": "code",
   "execution_count": 3,
   "id": "a57fcecb-a87d-4e38-b07f-c38ef0f5b287",
   "metadata": {},
   "outputs": [
    {
     "name": "stdout",
     "output_type": "stream",
     "text": [
      "100%|█████████████████████████████████████████████████████████████████████████████████████████████████████| 2/2 [00:00<00:00,  9.11it/s]\n",
      "lhs shape = (1576, 887)\n",
      "lhs rank = 789\n",
      "degrees of freedom = 887\n",
      "new_deaths_smoothed_per_million\n"
     ]
    },
    {
     "data": {
      "image/png": "[encoded data removed]",
      "text/plain": [
       "<Figure size 640x480 with 1 Axes>"
      ]
     },
     "metadata": {},
     "output_type": "display_data"
    }
   ],
   "source": [
    "import matplotlib.pyplot as plt\n",
    "predict_replace = require.single( \"predict_replace\" )\n",
    "\n",
    "time_range = slice( 0, 1000 )\n",
    "column = 1\n",
    "df = dataframes[ 1 ]\n",
    "\n",
    "df_pred = predict_replace( df, ensemble )\n",
    "df.iloc[ time_range, column ].plot( color = \"blue\" )\n",
    "df_pred.iloc[ time_range, column ].plot( color = \"orange\" )\n",
    "\n",
    "line = lambda color, label: plt.Line2D([ ], [ ], color = color, label = label )\n",
    "h = [ line( \"blue\", \"true\" ), line( \"orange\", \"predicted\" )]\n",
    "\n",
    "plt.legend( handles = h )\n",
    "print( df_pred.columns[ column ])"
   ]
  }
 ],
 "metadata": {
  "kernelspec": {
   "display_name": "Python 3 (ipykernel)",
   "language": "python",
   "name": "python3"
  },
  "language_info": {
   "codemirror_mode": {
    "name": "ipython",
    "version": 3
   },
   "file_extension": ".py",
   "mimetype": "text/x-python",
   "name": "python",
   "nbconvert_exporter": "python",
   "pygments_lexer": "ipython3",
   "version": "3.9.1"
  }
 },
 "nbformat": 4,
 "nbformat_minor": 5
}
