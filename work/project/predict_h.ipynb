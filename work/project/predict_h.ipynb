{
 "cells": [
  {
   "cell_type": "markdown",
   "id": "8ded3c20-9e27-481d-a430-ac8d37d9d53c",
   "metadata": {},
   "source": [
    "Note: by cropping here we loose some data (temporally), but we use the dataframe for window processing and need NaN-free series"
   ]
  },
  {
   "cell_type": "code",
   "execution_count": 145,
   "id": "c641021b-8bb3-42e3-98a7-c264ffa3e426",
   "metadata": {},
   "outputs": [
    {
     "name": "stderr",
     "output_type": "stream",
     "text": [
      "  0%|                                                                                                             | 0/6 [00:00<?, ?it/s]"
     ]
    },
    {
     "data": {
      "text/html": [
       "<p>all-valid interval (exclusive) <b>58:1145</b></p>"
      ],
      "text/plain": [
       "<IPython.core.display.HTML object>"
      ]
     },
     "metadata": {},
     "output_type": "display_data"
    },
    {
     "data": {
      "text/html": [
       "<p>you retain <b>87.9%</b> of your data</p>"
      ],
      "text/plain": [
       "<IPython.core.display.HTML object>"
      ]
     },
     "metadata": {},
     "output_type": "display_data"
    },
    {
     "name": "stderr",
     "output_type": "stream",
     "text": [
      " 17%|████████████████▊                                                                                    | 1/6 [00:02<00:14,  2.93s/it]"
     ]
    },
    {
     "data": {
      "text/html": [
       "<p>all-valid interval (exclusive) <b>58:1095</b></p>"
      ],
      "text/plain": [
       "<IPython.core.display.HTML object>"
      ]
     },
     "metadata": {},
     "output_type": "display_data"
    },
    {
     "data": {
      "text/html": [
       "<p>you retain <b>84.2%</b> of your data</p>"
      ],
      "text/plain": [
       "<IPython.core.display.HTML object>"
      ]
     },
     "metadata": {},
     "output_type": "display_data"
    },
    {
     "name": "stderr",
     "output_type": "stream",
     "text": [
      " 33%|█████████████████████████████████▋                                                                   | 2/6 [00:05<00:11,  2.84s/it]"
     ]
    },
    {
     "data": {
      "text/html": [
       "<p>all-valid interval (exclusive) <b>54:1145</b></p>"
      ],
      "text/plain": [
       "<IPython.core.display.HTML object>"
      ]
     },
     "metadata": {},
     "output_type": "display_data"
    },
    {
     "data": {
      "text/html": [
       "<p>you retain <b>88.3%</b> of your data</p>"
      ],
      "text/plain": [
       "<IPython.core.display.HTML object>"
      ]
     },
     "metadata": {},
     "output_type": "display_data"
    },
    {
     "name": "stderr",
     "output_type": "stream",
     "text": [
      " 50%|██████████████████████████████████████████████████▌                                                  | 3/6 [00:08<00:08,  2.85s/it]"
     ]
    },
    {
     "data": {
      "text/html": [
       "<p>all-valid interval (exclusive) <b>82:1145</b></p>"
      ],
      "text/plain": [
       "<IPython.core.display.HTML object>"
      ]
     },
     "metadata": {},
     "output_type": "display_data"
    },
    {
     "data": {
      "text/html": [
       "<p>you retain <b>86.4%</b> of your data</p>"
      ],
      "text/plain": [
       "<IPython.core.display.HTML object>"
      ]
     },
     "metadata": {},
     "output_type": "display_data"
    },
    {
     "data": {
      "text/html": [
       "<p>warning 'new_deaths_smoothed_per_million' has 2 nans. performed forward fill.</p>"
      ],
      "text/plain": [
       "<IPython.core.display.HTML object>"
      ]
     },
     "metadata": {},
     "output_type": "display_data"
    },
    {
     "name": "stderr",
     "output_type": "stream",
     "text": [
      " 67%|███████████████████████████████████████████████████████████████████▎                                 | 4/6 [00:11<00:05,  2.86s/it]"
     ]
    },
    {
     "data": {
      "text/html": [
       "<p>all-valid interval (exclusive) <b>78:1145</b></p>"
      ],
      "text/plain": [
       "<IPython.core.display.HTML object>"
      ]
     },
     "metadata": {},
     "output_type": "display_data"
    },
    {
     "data": {
      "text/html": [
       "<p>you retain <b>86.7%</b> of your data</p>"
      ],
      "text/plain": [
       "<IPython.core.display.HTML object>"
      ]
     },
     "metadata": {},
     "output_type": "display_data"
    },
    {
     "name": "stderr",
     "output_type": "stream",
     "text": [
      " 83%|████████████████████████████████████████████████████████████████████████████████████▏                | 5/6 [00:14<00:02,  2.87s/it]"
     ]
    },
    {
     "data": {
      "text/html": [
       "<p>all-valid interval (exclusive) <b>200:1145</b></p>"
      ],
      "text/plain": [
       "<IPython.core.display.HTML object>"
      ]
     },
     "metadata": {},
     "output_type": "display_data"
    },
    {
     "data": {
      "text/html": [
       "<p>you retain <b>76.6%</b> of your data</p>"
      ],
      "text/plain": [
       "<IPython.core.display.HTML object>"
      ]
     },
     "metadata": {},
     "output_type": "display_data"
    },
    {
     "data": {
      "text/html": [
       "<p>warning 'new_deaths_smoothed_per_million' has 1 nans. performed forward fill.</p>"
      ],
      "text/plain": [
       "<IPython.core.display.HTML object>"
      ]
     },
     "metadata": {},
     "output_type": "display_data"
    },
    {
     "name": "stderr",
     "output_type": "stream",
     "text": [
      "100%|█████████████████████████████████████████████████████████████████████████████████████████████████████| 6/6 [00:17<00:00,  2.86s/it]\n"
     ]
    }
   ],
   "source": [
    "import require\n",
    "import numpy as np\n",
    "from tqdm import tqdm\n",
    "from IPython.display import Markdown as md\n",
    "get_data_for_country = require.single( \"get_data_for_country\" )\n",
    "crop_to_valid_range = require.single( \"crop_to_valid_range\" )\n",
    "\n",
    "dataframes = [ ]\n",
    "\n",
    "for country in tqdm([ \"Germany\", \"Switzerland\", \"Italy\", \"France\", \"Belgium\", \"United States\" ]):\n",
    "\n",
    "    df = get_data_for_country( country, verbose = False )\n",
    "    df = crop_to_valid_range( df ).copy( ) \n",
    "    dataframes.append( df )"
   ]
  },
  {
   "cell_type": "markdown",
   "id": "fc97b09a-8781-4877-b6e0-b96f9106dc21",
   "metadata": {},
   "source": [
    "### Training"
   ]
  },
  {
   "cell_type": "code",
   "execution_count": 146,
   "id": "a8505bbc-4238-4d27-beff-e395b5dc0aec",
   "metadata": {},
   "outputs": [],
   "source": [
    "train_weak_learner = require.single( \"train_weak_learner\" )"
   ]
  },
  {
   "cell_type": "code",
   "execution_count": 65,
   "id": "f419792c-0ea8-4468-ad9f-85ebd249233c",
   "metadata": {
    "collapsed": true,
    "jupyter": {
     "outputs_hidden": true,
     "source_hidden": true
    }
   },
   "outputs": [
    {
     "data": {
      "text/html": [
       "<h1>Weak Learner Training</h1>"
      ],
      "text/plain": [
       "<IPython.core.display.HTML object>"
      ]
     },
     "metadata": {},
     "output_type": "display_data"
    },
    {
     "data": {
      "text/html": [
       "<h3>Parameters</h3>"
      ],
      "text/plain": [
       "<IPython.core.display.HTML object>"
      ]
     },
     "metadata": {},
     "output_type": "display_data"
    },
    {
     "data": {
      "text/html": [
       "<table width=100%><tr><td>number of dataframes</td><td>1</td></tr><tr><td>samples from dataframe 0</td><td>1072</td></tr><tr><td>total number of samples</td><td>1072</td></tr><tr><td>number of time series</td><td>20</td></tr><tr><td>number of outcome series</td><td>3</td></tr><tr><td>length of left/predictor window</td><td>10</td></tr><tr><td>lag/spacing between windows</td><td>0</td></tr><tr><td>length of right/response window</td><td>10</td></tr><tr><td>shape of linear operator M</td><td>(10, 10)</td></tr><tr><td>least squares weight</td><td>1</td></tr></table>"
      ],
      "text/plain": [
       "<IPython.core.display.HTML object>"
      ]
     },
     "metadata": {},
     "output_type": "display_data"
    },
    {
     "data": {
      "text/markdown": [
       "### Theory\n",
       " Consider the predictor windows $L \\in \\mathbb{R}^{(1072, 10, 20)}$ and response windows $R \\in \\mathbb{R}^{(1072, 10, 3)}$. Let $X \\in \\mathbb{R}^{(1072, 200)}$ be a reshaping of $L$ which is directly passed into the model as predictor sample matrix. Let latent response $Z \\in \\mathbb{R}^{(1072, 30)}$ be a reshaping of $R$. As the name suggests, this is not given to the model. Instead, the model observes a linear transformation of $Z$: We have $Y \\in \\mathbb{R}^{(1072, 30)}=Z (M \\otimes I_{3})^\\top$. This applies the linear operator $M \\in \\mathbb{R}^{(10, 10)}$ to every outcome time series window. Hence, the weak learner learns a function $f: \\mathbb{R}^{(10, 20)} \\rightarrow \\mathbb{R}^{(10, 3)}$, where $f(x)=y=Mz$."
      ],
      "text/plain": [
       "<IPython.core.display.Markdown object>"
      ]
     },
     "metadata": {},
     "output_type": "display_data"
    }
   ],
   "source": [
    "# this produces a perfect-fit model for debugging\n",
    "ensemble = [ ]\n",
    "ensemble.append( train_weak_learner([ df ], length_l = 10, lag = 0, length_r = 10, linear_operator = np.identity( 10 )))"
   ]
  },
  {
   "cell_type": "code",
   "execution_count": 203,
   "id": "fdcd790e-9311-49a2-8d6d-45e0d6f7245f",
   "metadata": {},
   "outputs": [],
   "source": [
    "# this is a somewhat more realistic ensemble\n",
    "train_set = dataframes[ :-1 ]\n",
    "ensemble = [ ]\n",
    "\n",
    "mean_operator = lambda l: np.ones(( 1, l )) / l\n",
    "\n",
    "def gradient_operator( l ):\n",
    "\n",
    "    grad = np.zeros(( l, l ))\n",
    "    #grad[ np.arange( l - 1 ) + 1, ( np.arange( l - 1 )) % l ] = -1 # for left diagonal\n",
    "    grad[ np.arange( l ), np.arange( l )] = -1\n",
    "    grad[ np.arange( l - 1 ), ( np.arange( l - 1 ) + 1 ) % l ] = 1\n",
    "    return grad\n",
    "\n",
    "\n",
    "for length_l, lag, length_r in [( 100, 30, 100 )]:\n",
    "\n",
    "    learner = train_weak_learner( train_set, length_l = length_l, lag = lag, length_r = length_r, linear_operator = mean_operator( length_r ), verbose = False )    \n",
    "    ensemble.append( learner )\n",
    "\n",
    "for length_l, lag, length_r in [( 100, 50, 100 )]:\n",
    "\n",
    "    learner = train_weak_learner( train_set, length_l = length_l, lag = lag, length_r = length_r, linear_operator = mean_operator( length_r ) @ gradient_operator( length_r ), verbose = False )    \n",
    "    ensemble.append( learner )\n",
    "\n",
    "length_l = 100\n",
    "length_r = 100\n",
    "first_last = np.zeros(( 2, length_r ))\n",
    "first_last[ 0, 0 ] = 1\n",
    "first_last[ 1, length_r - 1 ] = 1\n",
    "ensemble.append( train_weak_learner( train_set, length_l = length_l, lag = 20, length_r = length_r, linear_operator = first_last, verbose = False ))\n"
   ]
  },
  {
   "cell_type": "markdown",
   "id": "59accce2-3029-4260-aafc-bb57f5319792",
   "metadata": {},
   "source": [
    "### Prediction"
   ]
  },
  {
   "cell_type": "code",
   "execution_count": 204,
   "id": "e7a9b4d9-7a53-44c0-a9d4-4faa8c846e76",
   "metadata": {},
   "outputs": [],
   "source": [
    "df = dataframes[ -1 ]"
   ]
  },
  {
   "cell_type": "code",
   "execution_count": 205,
   "id": "293d6849-4a57-4c81-9df0-b1e5e0148434",
   "metadata": {},
   "outputs": [
    {
     "name": "stderr",
     "output_type": "stream",
     "text": [
      "100%|█████████████████████████████████████████████████████████████████████████████████████████████████████| 3/3 [00:00<00:00, 18.14it/s]\n"
     ]
    },
    {
     "name": "stdout",
     "output_type": "stream",
     "text": [
      "lhs shape = (2404, 700)\n",
      "lhs rank = 700\n",
      "degrees of freedom = 700\n"
     ]
    }
   ],
   "source": [
    "# for predicted time range\n",
    "from tqdm import tqdm\n",
    "min_start = max([ l.length_l + l.lag for l in ensemble ])\n",
    "min_length = max([ l.length_r for l in ensemble ])\n",
    "\n",
    "start = min_start\n",
    "length = 700\n",
    "\n",
    "assert start >= min_start\n",
    "assert length >= min_length\n",
    "assert start + length <= df.shape[ 0 ]\n",
    "\n",
    "lhs_chunks = [ ]\n",
    "rhs_chunks = [ ]\n",
    "weight_chunks = [ ]\n",
    "\n",
    "for learner in tqdm( ensemble ):\n",
    "\n",
    "    n_predictions = 1 + length - learner.length_r\n",
    "    M = learner.linear_operator\n",
    "    n_rows_total = M.shape[ 0 ] * n_predictions\n",
    "    lag = learner.lag\n",
    "\n",
    "    for i in range( n_predictions ):\n",
    "\n",
    "        chunk = np.zeros(( M.shape[ 0 ], length ))\n",
    "        chunk[ :, i : i + M.shape[ 1 ]] = M\n",
    "        lhs_chunks.append( chunk )\n",
    "\n",
    "        window = df.iloc[ start - lag - learner.length_l + i: start - lag + i, : ].to_numpy( )\n",
    "        y = learner.predict( window )\n",
    "        rhs_chunks.append( y )\n",
    "\n",
    "        # each weak learner is now regarded equally important, independent of total rows occupied\n",
    "        # otherwise learners with smaller windows and larger operators are favoured\n",
    "        weight_chunks.append( np.ones( M.shape[ 0 ], ) * ( learner.weight / n_rows_total ))\n",
    "\n",
    "lhs = np.concatenate( lhs_chunks, axis = 0 )\n",
    "rhs = np.concatenate( rhs_chunks, axis = 0 )\n",
    "weight = np.concatenate( weight_chunks, axis = 0 )\n",
    "\n",
    "lhs = np.diag( weight ) @ lhs\n",
    "rhs = np.diag( weight ) @ rhs\n",
    "\n",
    "assert lhs.shape == ( rhs.shape[ 0 ], length )\n",
    "\n",
    "print( f\"lhs shape = { lhs.shape }\" )\n",
    "print( f\"lhs rank = { np.linalg.matrix_rank( lhs )}\" )\n",
    "print( f\"degrees of freedom = { length }\" )"
   ]
  },
  {
   "cell_type": "code",
   "execution_count": 206,
   "id": "68389523-ffa8-4c2e-93ab-6fbfa3605036",
   "metadata": {},
   "outputs": [
    {
     "name": "stdout",
     "output_type": "stream",
     "text": [
      "(700, 3)\n"
     ]
    }
   ],
   "source": [
    "prediction, *_ = np.linalg.lstsq( lhs, rhs, rcond = None )\n",
    "print( prediction.shape )"
   ]
  },
  {
   "cell_type": "code",
   "execution_count": 207,
   "id": "0898149e-26bf-4638-9d44-05e168d0cd0b",
   "metadata": {},
   "outputs": [],
   "source": [
    "import matplotlib.pyplot as plt"
   ]
  },
  {
   "cell_type": "code",
   "execution_count": 208,
   "id": "a57fcecb-a87d-4e38-b07f-c38ef0f5b287",
   "metadata": {},
   "outputs": [
    {
     "name": "stdout",
     "output_type": "stream",
     "text": [
      "new_deaths_smoothed_per_million\n"
     ]
    },
    {
     "data": {
      "image/png": "[encoded data removed]",
      "text/plain": [
       "<Figure size 640x480 with 1 Axes>"
      ]
     },
     "metadata": {},
     "output_type": "display_data"
    }
   ],
   "source": [
    "time_range = slice( 0, 1000 )\n",
    "column = 1\n",
    "\n",
    "df_pred = df.copy( )\n",
    "df_pred.iloc[ :, : ] = np.nan\n",
    "df_pred.iloc[ start : start + length, :3 ] = prediction\n",
    "df.iloc[ time_range, column ].plot( color = \"blue\" )\n",
    "df_pred.iloc[ time_range, column ].plot( color = \"orange\" )\n",
    "\n",
    "line = lambda color, label: plt.Line2D([ ], [ ], color = color, label = label )\n",
    "h = [ line( \"blue\", \"true\" ), line( \"orange\", \"predicted\" )]\n",
    "\n",
    "plt.legend( handles = h )\n",
    "print( df_pred.columns[ column ])"
   ]
  },
  {
   "cell_type": "code",
   "execution_count": null,
   "id": "1f77329d-a6ce-47c8-9747-be97af1c40ca",
   "metadata": {},
   "outputs": [],
   "source": []
  }
 ],
 "metadata": {
  "kernelspec": {
   "display_name": "Python 3 (ipykernel)",
   "language": "python",
   "name": "python3"
  },
  "language_info": {
   "codemirror_mode": {
    "name": "ipython",
    "version": 3
   },
   "file_extension": ".py",
   "mimetype": "text/x-python",
   "name": "python",
   "nbconvert_exporter": "python",
   "pygments_lexer": "ipython3",
   "version": "3.9.1"
  }
 },
 "nbformat": 4,
 "nbformat_minor": 5
}
