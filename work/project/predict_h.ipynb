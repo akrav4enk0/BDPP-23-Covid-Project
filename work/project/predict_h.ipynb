{
 "cells": [
  {
   "cell_type": "markdown",
   "id": "dce29418-0b7b-48d6-bb21-ad29223dfcb3",
   "metadata": {},
   "source": [
    "# Predict\n",
    "\n",
    "Use this notebook to train/test models. Using the node system will automatically allow you to cache the trained model for use in the server. Currently the only working model node is named `train_honest_forward`."
   ]
  },
  {
   "cell_type": "code",
   "execution_count": 1,
   "id": "de9053c8-fc5b-405a-b2df-686357c76db0",
   "metadata": {},
   "outputs": [],
   "source": [
    "# subset expression settings shared between train and test set\n",
    "\n",
    "subset = dict( \n",
    "\n",
    "    random_state = 22, \n",
    "    shuffle = True, \n",
    "    test_size = 0.2, \n",
    "    train_size = 0.8\n",
    ")"
   ]
  },
  {
   "cell_type": "markdown",
   "id": "437cbba6-c6a4-4c94-a10e-3aee2b2dce8c",
   "metadata": {},
   "source": [
    "### Train"
   ]
  },
  {
   "cell_type": "code",
   "execution_count": 2,
   "id": "c641021b-8bb3-42e3-98a7-c264ffa3e426",
   "metadata": {},
   "outputs": [
    {
     "name": "stdout",
     "output_type": "stream",
     "text": [
      "assembling patches: 100%|██████████████████████████████████████████████████████████████████████████████████████| 105361/105361 [00:22<00:00, 4672.92it/s]\n",
      "training...\n",
      "{'n_estimators': 100, 'max_depth': 20, 'max_features': 1.0, 'n_jobs': 7}\n",
      "training estimators: 100%|███████████████████████████████████████████████████████████████████████████████████████████████| 15/15 [24:07<00:00, 96.49s/it]\n",
      "done\n"
     ]
    }
   ],
   "source": [
    "import nodes\n",
    "import verbose\n",
    "verbose.set_level( 0 )\n",
    "\n",
    "model = nodes.find( \"train_honest_forward\" ).get_result( \n",
    "    \n",
    "    subset = { ** subset, \"type\": \"train_split\" }, \n",
    "    length_l = 100,\n",
    "    lag = 50,\n",
    "    n_estimators = 100, \n",
    "    max_depth = 20,\n",
    "    max_features = 1.0,\n",
    "    n_jobs = -1\n",
    ")"
   ]
  },
  {
   "cell_type": "markdown",
   "id": "3c667bec-6eaa-40c5-817f-b07f6b745c42",
   "metadata": {},
   "source": [
    "### Validate"
   ]
  },
  {
   "cell_type": "code",
   "execution_count": 65,
   "id": "cae0bf72-e77f-4f87-8cce-fae9777ba340",
   "metadata": {},
   "outputs": [
    {
     "name": "stdout",
     "output_type": "stream",
     "text": [
      "test set validation\n",
      "r2 in Senegal: 0.00                                                                                                                                      \n",
      "r2 in Croatia: 0.17                                                                                                                                      \n",
      "r2 in Italy: 0.47                                                                                                                                        \n",
      "r2 in Madagascar: 0.00                                                                                                                                   \n",
      "r2 in Morocco: 0.00                                                                                                                                      \n",
      "r2 in Malta: 0.15                                                                                                                                        \n",
      "r2 in Myanmar: 0.00                                                                                                                                      \n",
      "r2 in Denmark: 0.00                                                                                                                                      \n",
      "r2 in Luxembourg: 0.00                                                                                                                                   \n",
      "r2 in Argentina: 0.18                                                                                                                                    \n",
      "r2 in Sweden: 0.00                                                                                                                                       \n",
      "r2 in Greece: 0.18                                                                                                                                       \n",
      "r2 in Ethiopia: 0.00                                                                                                                                     \n",
      "r2 in Dominican Republic: 0.00                                                                                                                           \n",
      "r2 in Kosovo: 0.00                                                                                                                                       \n",
      "r2 in Iran: 0.00                                                                                                                                         \n",
      "r2 in Belgium: 0.44                                                                                                                                      \n",
      "r2 in Philippines: 0.00                                                                                                                                  \n",
      "r2 in South Africa: 0.00                                                                                                                                 \n",
      "r2 in Laos: 0.00                                                                                                                                         \n",
      "r2 in Zambia: 0.00                                                                                                                                       \n",
      "r2 in India: 0.00                                                                                                                                        \n",
      "r2 in Palestine: 0.00                                                                                                                                    \n",
      "r2 in Saudi Arabia: 0.00                                                                                                                                 \n",
      "r2 in Botswana: 0.00                                                                                                                                     \n",
      "evaluation: 100%|██████████████████████████████████████████████████████████████████████████████████████████████████████| 25.0/25 [07:27<00:00, 17.89s/it]\n",
      "\n",
      "average r2 score: 0.06\n",
      "\n",
      "\n",
      "percentage with positive r2 score: 0.24\n",
      "\n"
     ]
    }
   ],
   "source": [
    "import require\n",
    "import pandas as pd\n",
    "from sklearn.preprocessing import MinMaxScaler\n",
    "from sklearn.metrics import r2_score\n",
    "from tqdm import tqdm\n",
    "import sys\n",
    "\n",
    "n_outcomes = len( require.single( \"owid_outcomes\" ))\n",
    "subset_indexing = require.single( \"subset_indexing\" )\n",
    "crop_to_valid_range = require.single( \"crop_to_valid_range\" )\n",
    "\n",
    "scaler = MinMaxScaler( )\n",
    "scaler.fit( crop_to_valid_range( nodes.find( \"data_for_country\" ).get_result( \"Germany\" ))) # normalize against reference df \n",
    "\n",
    "# models should pick up trends\n",
    "# they need not be super smooth, so smoothing is employed on both time series before scoring\n",
    "def score( df_true, df_pred ):\n",
    "\n",
    "    # custom 'variance weighting' equivalent\n",
    "    scale = lambda df: pd.DataFrame( scaler.transform( df ), columns = df.columns )\n",
    "    \n",
    "    df_true = scale( df_true )\n",
    "    df_pred = scale( df_pred )\n",
    "    \n",
    "    r2 = r2_score( df_true.iloc[ :, :n_outcomes ], df_pred.iloc[ :, :n_outcomes ])\n",
    "\n",
    "     # if r2 is negative, it becomes rather meaningless, so we bound the penalty.\n",
    "    return max( 0, r2 )\n",
    "\n",
    "def validate( model, evalset ):\n",
    "    \n",
    "    sum = 0\n",
    "    count = 0\n",
    "    with tqdm( file = sys.stdout, total = len( evalset ), desc = \"evaluation\" ) as bar:\n",
    "    \n",
    "        for i, point in enumerate( evalset ):\n",
    "            \n",
    "            df = point.df\n",
    "            kwargs = dict( start = 0, callback = lambda p: bar.update( i + p - bar.n ))\n",
    "            df_pred = model.predict_replace( df, ** kwargs )\n",
    "        \n",
    "            assert not df.isna( ).any( ).any( )\n",
    "            assert not df_pred.isna( ).any( ).any( )\n",
    "    \n",
    "            s = score( df, df_pred )\n",
    "            bar.clear( )\n",
    "            print( f\"r2 in { point.country }: { s :.2f}\" )\n",
    "            sum += s\n",
    "            count += 1 if s > 0 else 0\n",
    "    \n",
    "    avg = sum / len( evalset )\n",
    "    perc = count / len( evalset )\n",
    "    print( f\"\\naverage r2 score: { avg :.2f}\\n\" )\n",
    "    print( f\"\\npercentage with positive r2 score: { perc :.2f}\\n\" )\n",
    "\n",
    "\n",
    "trainset = subset_indexing( nodes.find( \"training_data\" ).get_result( ), { ** subset, \"type\": \"train_split\" })\n",
    "testset = subset_indexing( nodes.find( \"training_data\" ).get_result( ), { ** subset, \"type\": \"test_split\" })\n",
    "\n",
    "print( \"test set validation\" )\n",
    "validate( model, testset )\n"
   ]
  },
  {
   "cell_type": "markdown",
   "id": "7ee07cbc-feb1-4930-9d8b-cb1e7a097b6e",
   "metadata": {},
   "source": [
    "### Plot"
   ]
  },
  {
   "cell_type": "code",
   "execution_count": 72,
   "id": "a57fcecb-a87d-4e38-b07f-c38ef0f5b287",
   "metadata": {},
   "outputs": [
    {
     "name": "stdout",
     "output_type": "stream",
     "text": [
      "new_deaths_smoothed_per_million in Chile\n",
      "inference: 100%|███████████████████████████████████████████████████████████████████████████████████████████████████████| 1.0/1.0 [00:12<00:00, 12.27s/it]\n"
     ]
    },
    {
     "data": {
      "text/plain": [
       "<matplotlib.legend.Legend at 0xffff37d9cdc0>"
      ]
     },
     "execution_count": 72,
     "metadata": {},
     "output_type": "execute_result"
    },
    {
     "data": {
      "image/png": "[encoded data removed]",
      "text/plain": [
       "<Figure size 640x480 with 1 Axes>"
      ]
     },
     "metadata": {},
     "output_type": "display_data"
    }
   ],
   "source": [
    "import matplotlib.pyplot as plt\n",
    "from tqdm import tqdm\n",
    "import sys\n",
    "import require\n",
    "import nodes\n",
    "import verbose\n",
    "verbose.set_level( 0 )\n",
    "\n",
    "data_for_country = require.single( \"data_for_country\" )\n",
    "subset_indexing = require.single( \"subset_indexing\" )\n",
    "crop_to_valid_range = require.single( \"crop_to_valid_range\" )\n",
    "\n",
    "trainset = subset_indexing( nodes.find( \"training_data\" ).get_result( ), { ** subset, \"type\": \"train_split\" })\n",
    "testset = subset_indexing( nodes.find( \"training_data\" ).get_result( ), { ** subset, \"type\": \"test_split\" })\n",
    "\n",
    "#country = trainset[ 2 ].country\n",
    "country = \"Chile\"\n",
    "start = 200\n",
    "length = 800\n",
    "view_margin = 50\n",
    "time_range = slice( start - view_margin, start - view_margin + length + view_margin )\n",
    "column_name = \"new_deaths_smoothed_per_million\"\n",
    "\n",
    "df = crop_to_valid_range( data_for_country.get_result( country ))\n",
    "column = df.columns.tolist( ).index( column_name )\n",
    "print( f\"{ df.columns[ column ]} in { country }\" )\n",
    "\n",
    "with tqdm( file = sys.stdout, total = 1.0, desc = \"inference\" ) as bar:\n",
    "\n",
    "    df_pred = model.predict_replace( df, start = start, length = length, callback = lambda p: bar.update( p - bar.n ))\n",
    "\n",
    "assert not df.isna( ).any( ).any( )\n",
    "assert not df_pred.isna( ).any( ).any( )\n",
    "\n",
    "smooth = lambda df: df.rolling( window = 7 ).mean( )\n",
    "\n",
    "df.iloc[ time_range, column ].plot( color = \"blue\" )\n",
    "df_pred.iloc[ time_range, column ].plot( color = \"orange\" )\n",
    "\n",
    "\n",
    "line = lambda color, label: plt.Line2D([ ], [ ], color = color, label = label )\n",
    "h = [ line( \"blue\", \"true\" ), line( \"orange\", \"predicted\" )]\n",
    "\n",
    "plt.legend( handles = h )\n",
    "\n",
    "\n"
   ]
  },
  {
   "cell_type": "code",
   "execution_count": 67,
   "id": "ab8698ea-9b82-46e4-8104-e66e375c02f6",
   "metadata": {},
   "outputs": [
    {
     "data": {
      "text/plain": [
       "\"United Kingdom | Faeroe Islands | Malawi | Canada | Uganda | Bhutan | Nepal | Spain | Peru | Japan | Kuwait | Uruguay | Trinidad and Tobago | Israel | Fiji | Albania | China | Vietnam | Haiti | Namibia | Thailand | Moldova | Turkey | El Salvador | Indonesia | Ghana | Poland | Jamaica | Zimbabwe | Malaysia | Togo | Costa Rica | Mexico | Brazil | Mauritania | Cote d'Ivoire | Suriname | Ecuador | Cyprus | Mozambique | Bahamas | Rwanda | Pakistan | Australia | Nigeria | Bulgaria | Belarus | Ireland | Chile | Liechtenstein | Kazakhstan | Iceland | Kenya | Jordan | Romania | Andorra | Hungary | Mongolia | Iraq | Bolivia | Belize | Panama | Colombia | Serbia | Bahrain | Lithuania | Portugal | Cameroon | Finland | Netherlands | New Zealand | Democratic Republic of Congo | Sri Lanka | United Arab Emirates | Cuba | Azerbaijan | Georgia | Ukraine | Germany | Estonia | France | Tunisia | Paraguay | Guyana | Bosnia and Herzegovina | Cambodia | Puerto Rico | United States Virgin Islands | Russia | Bangladesh | Norway | Switzerland | South Korea | Slovenia | Latvia | Guatemala | Austria | United States\""
      ]
     },
     "execution_count": 67,
     "metadata": {},
     "output_type": "execute_result"
    }
   ],
   "source": [
    "\" | \".join([ x.country for x in trainset ])"
   ]
  },
  {
   "cell_type": "code",
   "execution_count": 68,
   "id": "38b85de1-120a-40c4-bd21-3531e9963c15",
   "metadata": {},
   "outputs": [
    {
     "data": {
      "text/plain": [
       "'Senegal | Croatia | Italy | Madagascar | Morocco | Malta | Myanmar | Denmark | Luxembourg | Argentina | Sweden | Greece | Ethiopia | Dominican Republic | Kosovo | Iran | Belgium | Philippines | South Africa | Laos | Zambia | India | Palestine | Saudi Arabia | Botswana'"
      ]
     },
     "execution_count": 68,
     "metadata": {},
     "output_type": "execute_result"
    }
   ],
   "source": [
    "\" | \".join([ x.country for x in testset ])"
   ]
  },
  {
   "cell_type": "code",
   "execution_count": null,
   "id": "7eafbbda-1aac-481a-bce6-47f696ba8c22",
   "metadata": {},
   "outputs": [],
   "source": []
  }
 ],
 "metadata": {
  "kernelspec": {
   "display_name": "Python 3 (ipykernel)",
   "language": "python",
   "name": "python3"
  },
  "language_info": {
   "codemirror_mode": {
    "name": "ipython",
    "version": 3
   },
   "file_extension": ".py",
   "mimetype": "text/x-python",
   "name": "python",
   "nbconvert_exporter": "python",
   "pygments_lexer": "ipython3",
   "version": "3.9.1"
  }
 },
 "nbformat": 4,
 "nbformat_minor": 5
}
