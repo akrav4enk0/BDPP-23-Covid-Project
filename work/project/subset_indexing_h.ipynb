{
 "cells": [
  {
   "cell_type": "code",
   "execution_count": 2,
   "id": "c5fa059a-2d77-4e61-a5b1-eaae9982f5ed",
   "metadata": {},
   "outputs": [],
   "source": [
    "%run -i writefile2.py"
   ]
  },
  {
   "cell_type": "code",
   "execution_count": 85,
   "id": "d660cd40-eb3d-48f0-8dee-d306e48b1ee8",
   "metadata": {},
   "outputs": [],
   "source": [
    "%%writefile2\n",
    "\n",
    "\"\"\"\n",
    "index 1-dimensional array by subset, in an R/numpy fashion\n",
    "\"\"\"\n",
    "\n",
    "import numpy as np\n",
    "from sklearn.model_selection import train_test_split\n",
    "\n",
    "def subset_indexing( array, subset ):\n",
    "\n",
    "    # slice indexing\n",
    "    if type( subset ) == slice:\n",
    "\n",
    "        return array[ subset ]\n",
    "\n",
    "    # boolean indexing\n",
    "    if type( subset ) == list and len( subset ) == len( array ) and len( subset ) > 0 and type( subset[ 0 ]) == bool:\n",
    "\n",
    "        return subset_indexing( array, np.where( subset )[ 0 ].tolist( ))\n",
    "\n",
    "    # integer indexing\n",
    "    if type( subset ) == list and len( subset ) > 0 and type( subset[ 0 ]) == int:\n",
    "\n",
    "        return [ array[ i ] for i in subset ]\n",
    "\n",
    "    # train test split indexing\n",
    "    if type( subset ) == dict:\n",
    "\n",
    "        if subset[ \"type\" ] == \"train_test_split\":\n",
    "\n",
    "            kwargs = { ** subset }\n",
    "            del kwargs[ \"type\" ]\n",
    "            [ train_subset, test_subset ] = train_test_split( range( len( array )), ** kwargs )\n",
    "            return subset_indexing( array, train_subset ), subset_indexing( array, test_subset )\n",
    "\n",
    "        if subset[ \"type\" ] == \"train_split\":\n",
    "\n",
    "            return subset_indexing( array, { ** subset, ** { \"type\": \"train_test_split\" }})[ 0 ]\n",
    "\n",
    "        if subset[ \"type\" ] == \"test_split\":\n",
    "\n",
    "            return subset_indexing( array, { ** subset, ** { \"type\": \"train_test_split\" }})[ 1 ]\n",
    "\n",
    "    assert False, f\"unexpected subset format { subset } for array of length { len( array )}\"\n",
    "        "
   ]
  },
  {
   "cell_type": "code",
   "execution_count": 86,
   "id": "34e74025-b8eb-4963-b0bc-6db74a098634",
   "metadata": {},
   "outputs": [
    {
     "name": "stdout",
     "output_type": "stream",
     "text": [
      "ll\n",
      "['o', 'e']\n",
      "['e', 'l']\n",
      "['h', 'l', 'l', 'e']\n",
      "['o']\n"
     ]
    }
   ],
   "source": [
    "print( subset_indexing( \"hello\", slice( 2, 4 )))\n",
    "print( subset_indexing( \"hello\", [ 4, 1 ]))\n",
    "print( subset_indexing( \"hello\", [ False, True, False, True, False ]))\n",
    "print( subset_indexing( \"hello\", dict( type = \"train_split\", test_size = 0.1, random_state = 95, shuffle = True )))\n",
    "print( subset_indexing( \"hello\", dict( type = \"test_split\", test_size = 0.1, random_state = 95, shuffle = True )))\n"
   ]
  },
  {
   "cell_type": "code",
   "execution_count": null,
   "id": "39235312-f3ae-47a8-baab-639d129ec5b8",
   "metadata": {},
   "outputs": [],
   "source": []
  }
 ],
 "metadata": {
  "kernelspec": {
   "display_name": "Python 3 (ipykernel)",
   "language": "python",
   "name": "python3"
  },
  "language_info": {
   "codemirror_mode": {
    "name": "ipython",
    "version": 3
   },
   "file_extension": ".py",
   "mimetype": "text/x-python",
   "name": "python",
   "nbconvert_exporter": "python",
   "pygments_lexer": "ipython3",
   "version": "3.9.1"
  }
 },
 "nbformat": 4,
 "nbformat_minor": 5
}
