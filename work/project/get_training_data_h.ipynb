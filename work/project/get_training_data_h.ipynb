{
 "cells": [
  {
   "cell_type": "code",
   "execution_count": 8,
   "id": "620f7c61-39cc-4d07-97d2-2c65805a2865",
   "metadata": {},
   "outputs": [],
   "source": [
    "%run -i writefile2.py"
   ]
  },
  {
   "cell_type": "code",
   "execution_count": 9,
   "id": "d8c4c2ff-e271-40d1-8ecc-e2727d38d14c",
   "metadata": {},
   "outputs": [],
   "source": [
    "%%writefile2\n",
    "import require\n",
    "from tqdm import tqdm\n",
    "import sys\n",
    "from IPython.display import display, HTML\n",
    "\n",
    "\"\"\"\n",
    "Note: by cropping here we loose some data (temporally), \n",
    "but we use the dataframe for window processing and need NaN-free series\n",
    "\"\"\"\n",
    "\n",
    "get_data_for_country = require.single( \"get_data_for_country\" )\n",
    "crop_to_valid_range = require.single( \"crop_to_valid_range\" )\n",
    "\n",
    "def get_training_data( verbose = 1 ):\n",
    "\n",
    "    if verbose == False:\n",
    "\n",
    "        verbose = 0\n",
    "\n",
    "    if verbose >= 1:\n",
    "\n",
    "        display( HTML( f\"<h1>Training data</h1>\" ))\n",
    "    \n",
    "    dataframes = [ ]\n",
    "    \n",
    "    for country in tqdm([ \"Germany\", \"Switzerland\", \"Italy\", \"France\", \"Belgium\", \"United States\", \"Spain\", \"United Kingdom\", \"Malaysia\", \"South Korea\", \"Chile\" ], file = sys.stdout ):\n",
    "\n",
    "        if verbose >= 1:\n",
    "        \n",
    "            display( HTML( f\"<h3>{ country }</h3>\" ))\n",
    "\n",
    "        df = get_data_for_country( country, verbose = verbose >= 2 )\n",
    "        df = crop_to_valid_range( df, verbose = verbose ).copy( ) \n",
    "        dataframes.append( df )\n",
    "\n",
    "    return dataframes\n",
    "        "
   ]
  },
  {
   "cell_type": "code",
   "execution_count": null,
   "id": "b75fda47-89d5-4ce6-937d-2b925b9c1d43",
   "metadata": {},
   "outputs": [],
   "source": []
  }
 ],
 "metadata": {
  "kernelspec": {
   "display_name": "Python 3 (ipykernel)",
   "language": "python",
   "name": "python3"
  },
  "language_info": {
   "codemirror_mode": {
    "name": "ipython",
    "version": 3
   },
   "file_extension": ".py",
   "mimetype": "text/x-python",
   "name": "python",
   "nbconvert_exporter": "python",
   "pygments_lexer": "ipython3",
   "version": "3.9.1"
  }
 },
 "nbformat": 4,
 "nbformat_minor": 5
}
