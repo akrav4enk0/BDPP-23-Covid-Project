{
 "cells": [
  {
   "cell_type": "code",
   "execution_count": 1,
   "id": "a768f7cb-9ef8-4309-a068-5a499003ef2e",
   "metadata": {},
   "outputs": [],
   "source": [
    "%run -i writefile2.py"
   ]
  },
  {
   "cell_type": "code",
   "execution_count": 2,
   "id": "d67ce0e2-cf18-49bf-8265-1514f5a6a231",
   "metadata": {},
   "outputs": [],
   "source": [
    "%%writefile2\n",
    "from IPython.display import display, HTML\n",
    "\n",
    "def display_dict( info ):\n",
    "\n",
    "    html = [\"<table width=100%>\"]\n",
    "    for key, value in info.items():\n",
    "        html.append(\"<tr>\")\n",
    "        html.append(\"<td>{0}</td>\".format(key))\n",
    "        html.append(\"<td>{0}</td>\".format(value))\n",
    "        html.append(\"</tr>\")\n",
    "    html.append(\"</table>\")\n",
    "    display( HTML( ''.join(html)))"
   ]
  },
  {
   "cell_type": "code",
   "execution_count": null,
   "id": "80870af1-cee4-47b6-a8cf-a69128660b44",
   "metadata": {},
   "outputs": [],
   "source": []
  }
 ],
 "metadata": {
  "kernelspec": {
   "display_name": "Python 3 (ipykernel)",
   "language": "python",
   "name": "python3"
  },
  "language_info": {
   "codemirror_mode": {
    "name": "ipython",
    "version": 3
   },
   "file_extension": ".py",
   "mimetype": "text/x-python",
   "name": "python",
   "nbconvert_exporter": "python",
   "pygments_lexer": "ipython3",
   "version": "3.9.1"
  }
 },
 "nbformat": 4,
 "nbformat_minor": 5
}
