{
 "cells": [
  {
   "cell_type": "code",
   "execution_count": 6,
   "id": "539dbc75-27f8-481d-a83c-0d9fbf2b1bcb",
   "metadata": {},
   "outputs": [],
   "source": [
    "%run -i writefile2.py"
   ]
  },
  {
   "cell_type": "code",
   "execution_count": 12,
   "id": "825c8c43-5311-4573-87f9-24bc3c7393e9",
   "metadata": {},
   "outputs": [],
   "source": [
    "%%writefile2\n",
    "\n",
    "import numpy as np\n",
    "from IPython.display import display, HTML\n",
    "\n",
    "def crop_to_valid_range( df, verbose = 1 ):\n",
    "\n",
    "    if verbose == False:\n",
    "\n",
    "        verbose = 0\n",
    "    \n",
    "    # find valid time range for this dataframe\n",
    "    n, d = df.shape\n",
    "    index_per_series = np.indices(( n, ), dtype = int ).T @ np.ones(( 1, d ), dtype = int )\n",
    "    inf = np.iinfo( np.int64 ).max\n",
    "    \n",
    "    #for each column, get lowest non-nan index\n",
    "    index_or_inf = np.ma.masked_array( index_per_series, mask = np.isnan( df.to_numpy( ))).filled( inf )\n",
    "    start_per_column = index_or_inf.min( axis = 0 )\n",
    "    \n",
    "    #for each column, get highest non-nan index\n",
    "    index_or_minus_inf = np.ma.masked_array( index_per_series, mask = np.isnan( df.to_numpy( ))).filled( - inf )\n",
    "    last_per_column = index_or_minus_inf.max( axis = 0 )\n",
    "\n",
    "    if verbose >= 2:\n",
    "\n",
    "        display( HTML( f\"<h3>valid intervals (exclusive)</h3>\" ))\n",
    "\n",
    "        for i in range( d ):\n",
    "\n",
    "            display( HTML( f\"<p>{ df.columns[ i ]} <b>{ start_per_column[ i ]}:{ last_per_column[ i ] + 1 }</b></p>\" ))\n",
    "    \n",
    "    start = start_per_column.max( )\n",
    "    end = last_per_column.min( ) + 1\n",
    "\n",
    "    if verbose >= 1:\n",
    "\n",
    "        display( HTML( f\"<p>all-valid interval (exclusive) <b>{ start }:{ end }</b></p>\" ))\n",
    "        display( HTML( f\"<p>you retain <b>{ 100 * ( end - start ) / n :.1f}%</b> of your data</p>\" ))\n",
    "\n",
    "    df = df.iloc[ start: end, : ]\n",
    "    \n",
    "    # Check if DataFrame has any NaN values\n",
    "    assert not df.isna( ).any( ).any( )\n",
    "    \n",
    "    return df"
   ]
  },
  {
   "cell_type": "code",
   "execution_count": null,
   "id": "c1413ed6-cc51-4a22-a0f0-f1d64cdd5d5a",
   "metadata": {},
   "outputs": [],
   "source": []
  }
 ],
 "metadata": {
  "kernelspec": {
   "display_name": "Python 3 (ipykernel)",
   "language": "python",
   "name": "python3"
  },
  "language_info": {
   "codemirror_mode": {
    "name": "ipython",
    "version": 3
   },
   "file_extension": ".py",
   "mimetype": "text/x-python",
   "name": "python",
   "nbconvert_exporter": "python",
   "pygments_lexer": "ipython3",
   "version": "3.9.1"
  }
 },
 "nbformat": 4,
 "nbformat_minor": 5
}
