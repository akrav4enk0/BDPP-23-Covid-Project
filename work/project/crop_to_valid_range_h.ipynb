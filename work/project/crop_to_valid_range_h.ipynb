{
 "cells": [
  {
   "cell_type": "code",
   "execution_count": 3,
   "id": "539dbc75-27f8-481d-a83c-0d9fbf2b1bcb",
   "metadata": {},
   "outputs": [],
   "source": [
    "%run -i writefile2.py"
   ]
  },
  {
   "cell_type": "code",
   "execution_count": 5,
   "id": "55264915-4425-4aee-ad20-40ad1bff4061",
   "metadata": {},
   "outputs": [],
   "source": [
    "%%writefile2 --source crop_to_valid_range_h.ipynb\n",
    "\n",
    "import numpy as np\n",
    "from IPython.display import display, HTML\n",
    "\n",
    "def get_valid_range( df, verbose = 1 ):\n",
    "\n",
    "    if verbose == False:\n",
    "\n",
    "        verbose = 0\n",
    "    \n",
    "    # find valid time range for this dataframe\n",
    "    n, d = df.shape\n",
    "    index_per_series = np.indices(( n, ), dtype = int ).T @ np.ones(( 1, d ), dtype = int )\n",
    "    inf = np.iinfo( np.int64 ).max\n",
    "    \n",
    "    #for each column, get lowest non-nan index\n",
    "    index_or_inf = np.ma.masked_array( index_per_series, mask = np.isnan( df.to_numpy( ))).filled( inf )\n",
    "    start_per_column = index_or_inf.min( axis = 0 )\n",
    "    \n",
    "    #for each column, get highest non-nan index\n",
    "    index_or_minus_inf = np.ma.masked_array( index_per_series, mask = np.isnan( df.to_numpy( ))).filled( - inf )\n",
    "    last_per_column = index_or_minus_inf.max( axis = 0 )\n",
    "\n",
    "    if verbose >= 2:\n",
    "\n",
    "        display( HTML( f\"<h3>valid intervals (exclusive)</h3>\" ))\n",
    "\n",
    "        for i in range( d ):\n",
    "\n",
    "            display( HTML( f\"<p>{ df.columns[ i ]} <b>{ start_per_column[ i ]}:{ last_per_column[ i ] + 1 }</b></p>\" ))\n",
    "    \n",
    "    start = start_per_column.max( )\n",
    "    end = last_per_column.min( ) + 1\n",
    "\n",
    "    assert start != inf and end != -inf, \"your data is completely unusable, see verbose = 2 for more info\"\n",
    "\n",
    "    if verbose >= 1:\n",
    "\n",
    "        display( HTML( f\"<p>all-valid interval (exclusive) <b>{ start }:{ end }</b></p>\" ))\n",
    "        display( HTML( f\"<p>you retain <b>{ 100 * ( end - start ) / n :.1f}%</b> of your data</p>\" ))\n",
    "\n",
    "    return slice( start, end )"
   ]
  },
  {
   "cell_type": "code",
   "execution_count": 6,
   "id": "825c8c43-5311-4573-87f9-24bc3c7393e9",
   "metadata": {},
   "outputs": [],
   "source": [
    "%%writefile2\n",
    "\n",
    "import pandas as pd\n",
    "from IPython.display import display, HTML\n",
    "import require\n",
    "get_valid_range = require.single( \"get_valid_range\" )\n",
    "\n",
    "def crop_to_valid_range( df, verbose = 1 ):\n",
    "\n",
    "    df = df.iloc[ get_valid_range( df, verbose = verbose ), : ]\n",
    "    \n",
    "    # Check if DataFrame has any NaN values\n",
    "    for col, sum in df.isna( ).sum( ).items( ):\n",
    "\n",
    "        if sum > 0:\n",
    "\n",
    "            if verbose >= 1:\n",
    "                \n",
    "                display( HTML( f\"<p>warning '{ col }' has { sum } nan(s). performed forward fill.</p>\" ))\n",
    "\n",
    "    df = pd.DataFrame.fillna( df, axis = 0, method = \"ffill\" )\n",
    "    assert not df.isna( ).any( ).any( )\n",
    "    \n",
    "    return df\n",
    "    "
   ]
  },
  {
   "cell_type": "code",
   "execution_count": null,
   "id": "0a3f4aae-4b66-4df6-bcba-d957a20ff3fc",
   "metadata": {},
   "outputs": [],
   "source": []
  }
 ],
 "metadata": {
  "kernelspec": {
   "display_name": "Python 3 (ipykernel)",
   "language": "python",
   "name": "python3"
  },
  "language_info": {
   "codemirror_mode": {
    "name": "ipython",
    "version": 3
   },
   "file_extension": ".py",
   "mimetype": "text/x-python",
   "name": "python",
   "nbconvert_exporter": "python",
   "pygments_lexer": "ipython3",
   "version": "3.9.1"
  }
 },
 "nbformat": 4,
 "nbformat_minor": 5
}
